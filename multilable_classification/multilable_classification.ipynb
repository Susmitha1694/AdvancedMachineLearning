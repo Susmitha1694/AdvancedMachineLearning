{
 "cells": [
  {
   "cell_type": "markdown",
   "metadata": {
    "colab_type": "text",
    "id": "oxyDjwnf1ojY"
   },
   "source": [
    "# COMP47590: Advanced Machine Learning\n",
    "# Assignment 1: Multi-label Classification"
   ]
  },
  {
   "cell_type": "markdown",
   "metadata": {
    "colab_type": "text",
    "id": "DbAU9ScE1ojb"
   },
   "source": [
    "Names: Susmitha Tadavarthi, Shaurya Gogia\n",
    "\n",
    "Student Numbers: 19200996, 19200891"
   ]
  },
  {
   "cell_type": "markdown",
   "metadata": {
    "colab_type": "text",
    "id": "N6atnapb1ojc"
   },
   "source": [
    "## Import Packages Etc"
   ]
  },
  {
   "cell_type": "code",
   "execution_count": 1,
   "metadata": {
    "colab": {
     "base_uri": "https://localhost:8080/",
     "height": 107
    },
    "colab_type": "code",
    "id": "U5hjIOiY1ojd",
    "outputId": "cf4a90cd-6e2a-4362-920e-55670bece30f"
   },
   "outputs": [
    {
     "name": "stderr",
     "output_type": "stream",
     "text": [
      "/usr/local/lib/python3.6/dist-packages/sklearn/externals/six.py:31: FutureWarning: The module is deprecated in version 0.21 and will be removed in version 0.23 since we've dropped support for Python 2.7. Please rely on the official version of six (https://pypi.org/project/six/).\n",
      "  \"(https://pypi.org/project/six/).\", FutureWarning)\n",
      "/usr/local/lib/python3.6/dist-packages/sklearn/utils/deprecation.py:144: FutureWarning: The sklearn.neighbors.base module is  deprecated in version 0.22 and will be removed in version 0.24. The corresponding classes / functions should instead be imported from sklearn.neighbors. Anything that cannot be imported from sklearn.neighbors is now part of the private API.\n",
      "  warnings.warn(message, FutureWarning)\n"
     ]
    }
   ],
   "source": [
    "import pandas as pd\n",
    "import numpy as np\n",
    "import matplotlib.pyplot as plt\n",
    "import math\n",
    "import copy\n",
    "import matplotlib.pyplot as plt  \n",
    "from sklearn.base import BaseEstimator, ClassifierMixin\n",
    "from sklearn.utils.validation import check_X_y, check_array, check_is_fitted\n",
    "from sklearn.naive_bayes import GaussianNB\n",
    "from sklearn.model_selection import train_test_split\n",
    "from sklearn.metrics import hamming_loss\n",
    "from sklearn.metrics import make_scorer\n",
    "from sklearn import metrics\n",
    "from sklearn import tree\n",
    "from sklearn import ensemble\n",
    "from sklearn import linear_model\n",
    "from collections import Counter\n",
    "from imblearn.under_sampling import ClusterCentroids\n",
    "from imblearn.under_sampling import RandomUnderSampler\n",
    "from sklearn.model_selection import cross_val_score\n",
    "from sklearn.model_selection import GridSearchCV"
   ]
  },
  {
   "cell_type": "code",
   "execution_count": 0,
   "metadata": {
    "colab": {},
    "colab_type": "code",
    "id": "_KBUgbU11oji"
   },
   "outputs": [],
   "source": [
    "import warnings\n",
    "warnings.filterwarnings(\"ignore\")"
   ]
  },
  {
   "cell_type": "markdown",
   "metadata": {
    "colab_type": "text",
    "id": "UOBnHowH1ojm"
   },
   "source": [
    "## Task 0: Load the Yeast Dataset"
   ]
  },
  {
   "cell_type": "code",
   "execution_count": 3,
   "metadata": {
    "colab": {
     "base_uri": "https://localhost:8080/",
     "height": 435
    },
    "colab_type": "code",
    "id": "ob7jueI_1ojn",
    "outputId": "083556ee-3759-4719-e332-b12f9c92f50c"
   },
   "outputs": [
    {
     "data": {
      "text/html": [
       "<div>\n",
       "<style scoped>\n",
       "    .dataframe tbody tr th:only-of-type {\n",
       "        vertical-align: middle;\n",
       "    }\n",
       "\n",
       "    .dataframe tbody tr th {\n",
       "        vertical-align: top;\n",
       "    }\n",
       "\n",
       "    .dataframe thead th {\n",
       "        text-align: right;\n",
       "    }\n",
       "</style>\n",
       "<table border=\"1\" class=\"dataframe\">\n",
       "  <thead>\n",
       "    <tr style=\"text-align: right;\">\n",
       "      <th></th>\n",
       "      <th>Att1</th>\n",
       "      <th>Att2</th>\n",
       "      <th>Att3</th>\n",
       "      <th>Att4</th>\n",
       "      <th>Att5</th>\n",
       "      <th>Att6</th>\n",
       "      <th>Att7</th>\n",
       "      <th>Att8</th>\n",
       "      <th>Att9</th>\n",
       "      <th>Att10</th>\n",
       "      <th>Att11</th>\n",
       "      <th>Att12</th>\n",
       "      <th>Att13</th>\n",
       "      <th>Att14</th>\n",
       "      <th>Att15</th>\n",
       "      <th>Att16</th>\n",
       "      <th>Att17</th>\n",
       "      <th>Att18</th>\n",
       "      <th>Att19</th>\n",
       "      <th>Att20</th>\n",
       "      <th>Att21</th>\n",
       "      <th>Att22</th>\n",
       "      <th>Att23</th>\n",
       "      <th>Att24</th>\n",
       "      <th>Att25</th>\n",
       "      <th>Att26</th>\n",
       "      <th>Att27</th>\n",
       "      <th>Att28</th>\n",
       "      <th>Att29</th>\n",
       "      <th>Att30</th>\n",
       "      <th>Att31</th>\n",
       "      <th>Att32</th>\n",
       "      <th>Att33</th>\n",
       "      <th>Att34</th>\n",
       "      <th>Att35</th>\n",
       "      <th>Att36</th>\n",
       "      <th>Att37</th>\n",
       "      <th>Att38</th>\n",
       "      <th>Att39</th>\n",
       "      <th>Att40</th>\n",
       "      <th>...</th>\n",
       "      <th>Att78</th>\n",
       "      <th>Att79</th>\n",
       "      <th>Att80</th>\n",
       "      <th>Att81</th>\n",
       "      <th>Att82</th>\n",
       "      <th>Att83</th>\n",
       "      <th>Att84</th>\n",
       "      <th>Att85</th>\n",
       "      <th>Att86</th>\n",
       "      <th>Att87</th>\n",
       "      <th>Att88</th>\n",
       "      <th>Att89</th>\n",
       "      <th>Att90</th>\n",
       "      <th>Att91</th>\n",
       "      <th>Att92</th>\n",
       "      <th>Att93</th>\n",
       "      <th>Att94</th>\n",
       "      <th>Att95</th>\n",
       "      <th>Att96</th>\n",
       "      <th>Att97</th>\n",
       "      <th>Att98</th>\n",
       "      <th>Att99</th>\n",
       "      <th>Att100</th>\n",
       "      <th>Att101</th>\n",
       "      <th>Att102</th>\n",
       "      <th>Att103</th>\n",
       "      <th>Class1</th>\n",
       "      <th>Class2</th>\n",
       "      <th>Class3</th>\n",
       "      <th>Class4</th>\n",
       "      <th>Class5</th>\n",
       "      <th>Class6</th>\n",
       "      <th>Class7</th>\n",
       "      <th>Class8</th>\n",
       "      <th>Class9</th>\n",
       "      <th>Class10</th>\n",
       "      <th>Class11</th>\n",
       "      <th>Class12</th>\n",
       "      <th>Class13</th>\n",
       "      <th>Class14</th>\n",
       "    </tr>\n",
       "  </thead>\n",
       "  <tbody>\n",
       "    <tr>\n",
       "      <th>0</th>\n",
       "      <td>0.004168</td>\n",
       "      <td>-0.170975</td>\n",
       "      <td>-0.156748</td>\n",
       "      <td>-0.142151</td>\n",
       "      <td>0.058781</td>\n",
       "      <td>0.026851</td>\n",
       "      <td>0.197719</td>\n",
       "      <td>0.041850</td>\n",
       "      <td>0.066938</td>\n",
       "      <td>-0.056617</td>\n",
       "      <td>-0.027230</td>\n",
       "      <td>-0.137411</td>\n",
       "      <td>0.067776</td>\n",
       "      <td>0.047175</td>\n",
       "      <td>0.155671</td>\n",
       "      <td>0.050766</td>\n",
       "      <td>0.102557</td>\n",
       "      <td>-0.020259</td>\n",
       "      <td>-0.200512</td>\n",
       "      <td>-0.095371</td>\n",
       "      <td>-0.081940</td>\n",
       "      <td>-0.103735</td>\n",
       "      <td>0.093299</td>\n",
       "      <td>0.105475</td>\n",
       "      <td>0.148560</td>\n",
       "      <td>0.085925</td>\n",
       "      <td>0.107879</td>\n",
       "      <td>0.108075</td>\n",
       "      <td>0.085388</td>\n",
       "      <td>0.124026</td>\n",
       "      <td>-0.003650</td>\n",
       "      <td>-0.127376</td>\n",
       "      <td>0.039394</td>\n",
       "      <td>-0.018364</td>\n",
       "      <td>0.050378</td>\n",
       "      <td>0.157190</td>\n",
       "      <td>0.203563</td>\n",
       "      <td>0.111552</td>\n",
       "      <td>0.017907</td>\n",
       "      <td>-0.001126</td>\n",
       "      <td>...</td>\n",
       "      <td>-0.175325</td>\n",
       "      <td>-0.133636</td>\n",
       "      <td>0.005524</td>\n",
       "      <td>-0.014981</td>\n",
       "      <td>-0.031946</td>\n",
       "      <td>-0.015114</td>\n",
       "      <td>-0.047175</td>\n",
       "      <td>0.003829</td>\n",
       "      <td>0.010967</td>\n",
       "      <td>-0.006062</td>\n",
       "      <td>-0.027560</td>\n",
       "      <td>-0.019866</td>\n",
       "      <td>-0.024046</td>\n",
       "      <td>-0.025153</td>\n",
       "      <td>-0.009261</td>\n",
       "      <td>-0.025539</td>\n",
       "      <td>0.006166</td>\n",
       "      <td>-0.012976</td>\n",
       "      <td>-0.014259</td>\n",
       "      <td>-0.015024</td>\n",
       "      <td>-0.010747</td>\n",
       "      <td>0.000411</td>\n",
       "      <td>-0.032056</td>\n",
       "      <td>-0.018312</td>\n",
       "      <td>0.030126</td>\n",
       "      <td>0.124722</td>\n",
       "      <td>0</td>\n",
       "      <td>0</td>\n",
       "      <td>0</td>\n",
       "      <td>0</td>\n",
       "      <td>0</td>\n",
       "      <td>0</td>\n",
       "      <td>1</td>\n",
       "      <td>1</td>\n",
       "      <td>0</td>\n",
       "      <td>0</td>\n",
       "      <td>0</td>\n",
       "      <td>1</td>\n",
       "      <td>1</td>\n",
       "      <td>0</td>\n",
       "    </tr>\n",
       "    <tr>\n",
       "      <th>1</th>\n",
       "      <td>-0.103956</td>\n",
       "      <td>0.011879</td>\n",
       "      <td>-0.098986</td>\n",
       "      <td>-0.054501</td>\n",
       "      <td>-0.007970</td>\n",
       "      <td>0.049113</td>\n",
       "      <td>-0.030580</td>\n",
       "      <td>-0.077933</td>\n",
       "      <td>-0.080529</td>\n",
       "      <td>-0.016267</td>\n",
       "      <td>-0.215304</td>\n",
       "      <td>-0.009885</td>\n",
       "      <td>-0.155843</td>\n",
       "      <td>-0.059522</td>\n",
       "      <td>-0.098836</td>\n",
       "      <td>-0.071141</td>\n",
       "      <td>-0.023494</td>\n",
       "      <td>-0.071200</td>\n",
       "      <td>0.027767</td>\n",
       "      <td>0.003091</td>\n",
       "      <td>-0.003761</td>\n",
       "      <td>0.074600</td>\n",
       "      <td>0.053080</td>\n",
       "      <td>-0.008138</td>\n",
       "      <td>0.001794</td>\n",
       "      <td>-0.111704</td>\n",
       "      <td>-0.140291</td>\n",
       "      <td>-0.063347</td>\n",
       "      <td>0.066767</td>\n",
       "      <td>-0.167073</td>\n",
       "      <td>-0.095567</td>\n",
       "      <td>-0.047209</td>\n",
       "      <td>0.082206</td>\n",
       "      <td>0.144445</td>\n",
       "      <td>0.086581</td>\n",
       "      <td>-0.111850</td>\n",
       "      <td>-0.086560</td>\n",
       "      <td>0.024942</td>\n",
       "      <td>-0.131539</td>\n",
       "      <td>0.080062</td>\n",
       "      <td>...</td>\n",
       "      <td>-0.001249</td>\n",
       "      <td>-0.020209</td>\n",
       "      <td>-0.077359</td>\n",
       "      <td>-0.045139</td>\n",
       "      <td>-0.074738</td>\n",
       "      <td>0.051846</td>\n",
       "      <td>0.009323</td>\n",
       "      <td>0.184332</td>\n",
       "      <td>0.420424</td>\n",
       "      <td>-0.090224</td>\n",
       "      <td>-0.090718</td>\n",
       "      <td>-0.035266</td>\n",
       "      <td>-0.046729</td>\n",
       "      <td>0.000575</td>\n",
       "      <td>-0.066023</td>\n",
       "      <td>-0.051916</td>\n",
       "      <td>0.007680</td>\n",
       "      <td>0.027719</td>\n",
       "      <td>-0.085811</td>\n",
       "      <td>0.111123</td>\n",
       "      <td>0.050541</td>\n",
       "      <td>0.027565</td>\n",
       "      <td>-0.063569</td>\n",
       "      <td>-0.041471</td>\n",
       "      <td>-0.079758</td>\n",
       "      <td>0.017161</td>\n",
       "      <td>0</td>\n",
       "      <td>0</td>\n",
       "      <td>1</td>\n",
       "      <td>1</td>\n",
       "      <td>0</td>\n",
       "      <td>0</td>\n",
       "      <td>0</td>\n",
       "      <td>0</td>\n",
       "      <td>0</td>\n",
       "      <td>0</td>\n",
       "      <td>0</td>\n",
       "      <td>0</td>\n",
       "      <td>0</td>\n",
       "      <td>0</td>\n",
       "    </tr>\n",
       "    <tr>\n",
       "      <th>2</th>\n",
       "      <td>0.509949</td>\n",
       "      <td>0.401709</td>\n",
       "      <td>0.293799</td>\n",
       "      <td>0.087714</td>\n",
       "      <td>0.011686</td>\n",
       "      <td>-0.006411</td>\n",
       "      <td>-0.006255</td>\n",
       "      <td>0.013646</td>\n",
       "      <td>-0.040666</td>\n",
       "      <td>-0.024447</td>\n",
       "      <td>-0.040576</td>\n",
       "      <td>0.014326</td>\n",
       "      <td>-0.074968</td>\n",
       "      <td>0.141365</td>\n",
       "      <td>-0.015182</td>\n",
       "      <td>0.013691</td>\n",
       "      <td>0.006893</td>\n",
       "      <td>0.003736</td>\n",
       "      <td>-0.020726</td>\n",
       "      <td>-0.044104</td>\n",
       "      <td>-0.052959</td>\n",
       "      <td>-0.085572</td>\n",
       "      <td>-0.061547</td>\n",
       "      <td>-0.029578</td>\n",
       "      <td>0.027700</td>\n",
       "      <td>-0.094310</td>\n",
       "      <td>-0.047721</td>\n",
       "      <td>-0.081589</td>\n",
       "      <td>-0.022846</td>\n",
       "      <td>-0.106684</td>\n",
       "      <td>-0.068873</td>\n",
       "      <td>-0.105225</td>\n",
       "      <td>-0.065414</td>\n",
       "      <td>-0.047722</td>\n",
       "      <td>-0.070723</td>\n",
       "      <td>-0.057425</td>\n",
       "      <td>-0.042024</td>\n",
       "      <td>-0.034122</td>\n",
       "      <td>-0.049606</td>\n",
       "      <td>0.015137</td>\n",
       "      <td>...</td>\n",
       "      <td>-0.002432</td>\n",
       "      <td>0.001711</td>\n",
       "      <td>-0.083572</td>\n",
       "      <td>-0.096943</td>\n",
       "      <td>0.148457</td>\n",
       "      <td>-0.007413</td>\n",
       "      <td>0.130691</td>\n",
       "      <td>-0.032325</td>\n",
       "      <td>0.028612</td>\n",
       "      <td>-0.023051</td>\n",
       "      <td>-0.092214</td>\n",
       "      <td>-0.103336</td>\n",
       "      <td>0.138232</td>\n",
       "      <td>-0.100351</td>\n",
       "      <td>0.140423</td>\n",
       "      <td>0.110074</td>\n",
       "      <td>0.096277</td>\n",
       "      <td>-0.044932</td>\n",
       "      <td>-0.089470</td>\n",
       "      <td>-0.009162</td>\n",
       "      <td>-0.012010</td>\n",
       "      <td>0.308378</td>\n",
       "      <td>-0.028053</td>\n",
       "      <td>0.026710</td>\n",
       "      <td>-0.066565</td>\n",
       "      <td>-0.122352</td>\n",
       "      <td>0</td>\n",
       "      <td>1</td>\n",
       "      <td>1</td>\n",
       "      <td>0</td>\n",
       "      <td>0</td>\n",
       "      <td>0</td>\n",
       "      <td>0</td>\n",
       "      <td>0</td>\n",
       "      <td>0</td>\n",
       "      <td>0</td>\n",
       "      <td>0</td>\n",
       "      <td>1</td>\n",
       "      <td>1</td>\n",
       "      <td>0</td>\n",
       "    </tr>\n",
       "    <tr>\n",
       "      <th>3</th>\n",
       "      <td>0.119092</td>\n",
       "      <td>0.004412</td>\n",
       "      <td>-0.002262</td>\n",
       "      <td>0.072254</td>\n",
       "      <td>0.044512</td>\n",
       "      <td>-0.051467</td>\n",
       "      <td>0.074686</td>\n",
       "      <td>-0.007670</td>\n",
       "      <td>0.079438</td>\n",
       "      <td>0.062184</td>\n",
       "      <td>-0.013027</td>\n",
       "      <td>0.045538</td>\n",
       "      <td>0.080412</td>\n",
       "      <td>-0.010042</td>\n",
       "      <td>0.013029</td>\n",
       "      <td>-0.071975</td>\n",
       "      <td>0.089818</td>\n",
       "      <td>-0.016129</td>\n",
       "      <td>0.033105</td>\n",
       "      <td>0.024275</td>\n",
       "      <td>0.040428</td>\n",
       "      <td>0.064248</td>\n",
       "      <td>0.225613</td>\n",
       "      <td>0.176576</td>\n",
       "      <td>0.015501</td>\n",
       "      <td>0.009491</td>\n",
       "      <td>-0.013684</td>\n",
       "      <td>-0.017633</td>\n",
       "      <td>0.085007</td>\n",
       "      <td>-0.056274</td>\n",
       "      <td>-0.088925</td>\n",
       "      <td>-0.062951</td>\n",
       "      <td>0.227151</td>\n",
       "      <td>0.165897</td>\n",
       "      <td>0.150224</td>\n",
       "      <td>0.065105</td>\n",
       "      <td>0.110891</td>\n",
       "      <td>0.048451</td>\n",
       "      <td>0.114726</td>\n",
       "      <td>0.020393</td>\n",
       "      <td>...</td>\n",
       "      <td>-0.111806</td>\n",
       "      <td>-0.154732</td>\n",
       "      <td>0.302807</td>\n",
       "      <td>0.340027</td>\n",
       "      <td>-0.093332</td>\n",
       "      <td>-0.057848</td>\n",
       "      <td>-0.010558</td>\n",
       "      <td>-0.039194</td>\n",
       "      <td>-0.041628</td>\n",
       "      <td>-0.077455</td>\n",
       "      <td>-0.008553</td>\n",
       "      <td>-0.022404</td>\n",
       "      <td>-0.106131</td>\n",
       "      <td>-0.103067</td>\n",
       "      <td>-0.083059</td>\n",
       "      <td>-0.089064</td>\n",
       "      <td>-0.083809</td>\n",
       "      <td>0.200354</td>\n",
       "      <td>-0.075716</td>\n",
       "      <td>0.196605</td>\n",
       "      <td>0.152758</td>\n",
       "      <td>-0.028484</td>\n",
       "      <td>-0.074207</td>\n",
       "      <td>-0.089227</td>\n",
       "      <td>-0.049913</td>\n",
       "      <td>-0.043893</td>\n",
       "      <td>0</td>\n",
       "      <td>0</td>\n",
       "      <td>1</td>\n",
       "      <td>1</td>\n",
       "      <td>0</td>\n",
       "      <td>0</td>\n",
       "      <td>0</td>\n",
       "      <td>0</td>\n",
       "      <td>0</td>\n",
       "      <td>0</td>\n",
       "      <td>0</td>\n",
       "      <td>0</td>\n",
       "      <td>0</td>\n",
       "      <td>0</td>\n",
       "    </tr>\n",
       "    <tr>\n",
       "      <th>4</th>\n",
       "      <td>0.042037</td>\n",
       "      <td>0.007054</td>\n",
       "      <td>-0.069483</td>\n",
       "      <td>0.081015</td>\n",
       "      <td>-0.048207</td>\n",
       "      <td>0.089446</td>\n",
       "      <td>-0.004947</td>\n",
       "      <td>0.064456</td>\n",
       "      <td>-0.133387</td>\n",
       "      <td>0.068878</td>\n",
       "      <td>-0.139371</td>\n",
       "      <td>0.041487</td>\n",
       "      <td>-0.058531</td>\n",
       "      <td>0.021264</td>\n",
       "      <td>-0.101382</td>\n",
       "      <td>0.021015</td>\n",
       "      <td>0.096572</td>\n",
       "      <td>-0.005136</td>\n",
       "      <td>0.111104</td>\n",
       "      <td>-0.008323</td>\n",
       "      <td>0.020210</td>\n",
       "      <td>-0.003967</td>\n",
       "      <td>0.039762</td>\n",
       "      <td>0.006744</td>\n",
       "      <td>-0.041730</td>\n",
       "      <td>-0.174533</td>\n",
       "      <td>-0.101343</td>\n",
       "      <td>-0.115674</td>\n",
       "      <td>0.328511</td>\n",
       "      <td>-0.108945</td>\n",
       "      <td>-0.160748</td>\n",
       "      <td>-0.120290</td>\n",
       "      <td>-0.148308</td>\n",
       "      <td>-0.082882</td>\n",
       "      <td>-0.127218</td>\n",
       "      <td>-0.167186</td>\n",
       "      <td>-0.143210</td>\n",
       "      <td>-0.118028</td>\n",
       "      <td>-0.297516</td>\n",
       "      <td>-0.160082</td>\n",
       "      <td>...</td>\n",
       "      <td>0.108388</td>\n",
       "      <td>0.095516</td>\n",
       "      <td>0.015942</td>\n",
       "      <td>0.087354</td>\n",
       "      <td>0.176911</td>\n",
       "      <td>-0.062311</td>\n",
       "      <td>0.117205</td>\n",
       "      <td>-0.048277</td>\n",
       "      <td>-0.053679</td>\n",
       "      <td>0.014850</td>\n",
       "      <td>-0.066453</td>\n",
       "      <td>-0.067962</td>\n",
       "      <td>-0.083653</td>\n",
       "      <td>-0.081130</td>\n",
       "      <td>-0.061469</td>\n",
       "      <td>0.023662</td>\n",
       "      <td>-0.060467</td>\n",
       "      <td>0.044351</td>\n",
       "      <td>-0.057209</td>\n",
       "      <td>0.028047</td>\n",
       "      <td>0.029661</td>\n",
       "      <td>-0.050026</td>\n",
       "      <td>0.023248</td>\n",
       "      <td>-0.061539</td>\n",
       "      <td>-0.035160</td>\n",
       "      <td>0.067834</td>\n",
       "      <td>0</td>\n",
       "      <td>0</td>\n",
       "      <td>1</td>\n",
       "      <td>1</td>\n",
       "      <td>1</td>\n",
       "      <td>1</td>\n",
       "      <td>0</td>\n",
       "      <td>0</td>\n",
       "      <td>0</td>\n",
       "      <td>0</td>\n",
       "      <td>0</td>\n",
       "      <td>0</td>\n",
       "      <td>0</td>\n",
       "      <td>0</td>\n",
       "    </tr>\n",
       "    <tr>\n",
       "      <th>...</th>\n",
       "      <td>...</td>\n",
       "      <td>...</td>\n",
       "      <td>...</td>\n",
       "      <td>...</td>\n",
       "      <td>...</td>\n",
       "      <td>...</td>\n",
       "      <td>...</td>\n",
       "      <td>...</td>\n",
       "      <td>...</td>\n",
       "      <td>...</td>\n",
       "      <td>...</td>\n",
       "      <td>...</td>\n",
       "      <td>...</td>\n",
       "      <td>...</td>\n",
       "      <td>...</td>\n",
       "      <td>...</td>\n",
       "      <td>...</td>\n",
       "      <td>...</td>\n",
       "      <td>...</td>\n",
       "      <td>...</td>\n",
       "      <td>...</td>\n",
       "      <td>...</td>\n",
       "      <td>...</td>\n",
       "      <td>...</td>\n",
       "      <td>...</td>\n",
       "      <td>...</td>\n",
       "      <td>...</td>\n",
       "      <td>...</td>\n",
       "      <td>...</td>\n",
       "      <td>...</td>\n",
       "      <td>...</td>\n",
       "      <td>...</td>\n",
       "      <td>...</td>\n",
       "      <td>...</td>\n",
       "      <td>...</td>\n",
       "      <td>...</td>\n",
       "      <td>...</td>\n",
       "      <td>...</td>\n",
       "      <td>...</td>\n",
       "      <td>...</td>\n",
       "      <td>...</td>\n",
       "      <td>...</td>\n",
       "      <td>...</td>\n",
       "      <td>...</td>\n",
       "      <td>...</td>\n",
       "      <td>...</td>\n",
       "      <td>...</td>\n",
       "      <td>...</td>\n",
       "      <td>...</td>\n",
       "      <td>...</td>\n",
       "      <td>...</td>\n",
       "      <td>...</td>\n",
       "      <td>...</td>\n",
       "      <td>...</td>\n",
       "      <td>...</td>\n",
       "      <td>...</td>\n",
       "      <td>...</td>\n",
       "      <td>...</td>\n",
       "      <td>...</td>\n",
       "      <td>...</td>\n",
       "      <td>...</td>\n",
       "      <td>...</td>\n",
       "      <td>...</td>\n",
       "      <td>...</td>\n",
       "      <td>...</td>\n",
       "      <td>...</td>\n",
       "      <td>...</td>\n",
       "      <td>...</td>\n",
       "      <td>...</td>\n",
       "      <td>...</td>\n",
       "      <td>...</td>\n",
       "      <td>...</td>\n",
       "      <td>...</td>\n",
       "      <td>...</td>\n",
       "      <td>...</td>\n",
       "      <td>...</td>\n",
       "      <td>...</td>\n",
       "      <td>...</td>\n",
       "      <td>...</td>\n",
       "      <td>...</td>\n",
       "      <td>...</td>\n",
       "    </tr>\n",
       "    <tr>\n",
       "      <th>2412</th>\n",
       "      <td>-0.119784</td>\n",
       "      <td>0.001259</td>\n",
       "      <td>-0.123645</td>\n",
       "      <td>-0.015513</td>\n",
       "      <td>-0.059683</td>\n",
       "      <td>0.091032</td>\n",
       "      <td>-0.043302</td>\n",
       "      <td>0.229219</td>\n",
       "      <td>-0.071498</td>\n",
       "      <td>0.182709</td>\n",
       "      <td>-0.169902</td>\n",
       "      <td>0.254843</td>\n",
       "      <td>-0.179968</td>\n",
       "      <td>0.173563</td>\n",
       "      <td>-0.060754</td>\n",
       "      <td>0.111926</td>\n",
       "      <td>0.055960</td>\n",
       "      <td>0.293560</td>\n",
       "      <td>0.017478</td>\n",
       "      <td>-0.081646</td>\n",
       "      <td>0.000432</td>\n",
       "      <td>-0.079165</td>\n",
       "      <td>-0.030758</td>\n",
       "      <td>0.057605</td>\n",
       "      <td>-0.069617</td>\n",
       "      <td>-0.152909</td>\n",
       "      <td>-0.013818</td>\n",
       "      <td>-0.134586</td>\n",
       "      <td>0.035602</td>\n",
       "      <td>-0.111456</td>\n",
       "      <td>-0.013309</td>\n",
       "      <td>-0.169705</td>\n",
       "      <td>-0.116210</td>\n",
       "      <td>-0.088351</td>\n",
       "      <td>-0.059824</td>\n",
       "      <td>0.055180</td>\n",
       "      <td>-0.015347</td>\n",
       "      <td>-0.054320</td>\n",
       "      <td>-0.158766</td>\n",
       "      <td>-0.038536</td>\n",
       "      <td>...</td>\n",
       "      <td>0.057122</td>\n",
       "      <td>0.103497</td>\n",
       "      <td>-0.064997</td>\n",
       "      <td>-0.019628</td>\n",
       "      <td>0.012507</td>\n",
       "      <td>0.209633</td>\n",
       "      <td>-0.081401</td>\n",
       "      <td>-0.057052</td>\n",
       "      <td>-0.077347</td>\n",
       "      <td>-0.076410</td>\n",
       "      <td>-0.077983</td>\n",
       "      <td>-0.021983</td>\n",
       "      <td>0.053034</td>\n",
       "      <td>0.191556</td>\n",
       "      <td>0.183931</td>\n",
       "      <td>0.065281</td>\n",
       "      <td>0.024084</td>\n",
       "      <td>-0.055915</td>\n",
       "      <td>-0.055593</td>\n",
       "      <td>-0.049642</td>\n",
       "      <td>0.018571</td>\n",
       "      <td>0.068742</td>\n",
       "      <td>-0.061001</td>\n",
       "      <td>-0.081132</td>\n",
       "      <td>-0.065844</td>\n",
       "      <td>0.001267</td>\n",
       "      <td>0</td>\n",
       "      <td>1</td>\n",
       "      <td>1</td>\n",
       "      <td>0</td>\n",
       "      <td>0</td>\n",
       "      <td>0</td>\n",
       "      <td>0</td>\n",
       "      <td>0</td>\n",
       "      <td>0</td>\n",
       "      <td>0</td>\n",
       "      <td>0</td>\n",
       "      <td>0</td>\n",
       "      <td>0</td>\n",
       "      <td>0</td>\n",
       "    </tr>\n",
       "    <tr>\n",
       "      <th>2413</th>\n",
       "      <td>0.085327</td>\n",
       "      <td>0.058590</td>\n",
       "      <td>0.085268</td>\n",
       "      <td>-0.020897</td>\n",
       "      <td>0.068972</td>\n",
       "      <td>0.030125</td>\n",
       "      <td>0.078056</td>\n",
       "      <td>0.011346</td>\n",
       "      <td>0.052618</td>\n",
       "      <td>0.066093</td>\n",
       "      <td>0.028501</td>\n",
       "      <td>0.037778</td>\n",
       "      <td>0.056401</td>\n",
       "      <td>0.073084</td>\n",
       "      <td>0.054199</td>\n",
       "      <td>0.010155</td>\n",
       "      <td>0.033694</td>\n",
       "      <td>0.022873</td>\n",
       "      <td>0.075112</td>\n",
       "      <td>0.092810</td>\n",
       "      <td>0.098595</td>\n",
       "      <td>0.059712</td>\n",
       "      <td>0.089367</td>\n",
       "      <td>0.056306</td>\n",
       "      <td>-0.010929</td>\n",
       "      <td>0.029214</td>\n",
       "      <td>0.028160</td>\n",
       "      <td>0.017634</td>\n",
       "      <td>0.005513</td>\n",
       "      <td>0.047156</td>\n",
       "      <td>0.100123</td>\n",
       "      <td>0.102521</td>\n",
       "      <td>-0.038055</td>\n",
       "      <td>-0.092468</td>\n",
       "      <td>-0.096875</td>\n",
       "      <td>-0.026086</td>\n",
       "      <td>0.048201</td>\n",
       "      <td>0.062117</td>\n",
       "      <td>0.052804</td>\n",
       "      <td>0.005024</td>\n",
       "      <td>...</td>\n",
       "      <td>-0.030045</td>\n",
       "      <td>-0.049208</td>\n",
       "      <td>-0.061023</td>\n",
       "      <td>-0.073127</td>\n",
       "      <td>-0.054131</td>\n",
       "      <td>0.230720</td>\n",
       "      <td>-0.054853</td>\n",
       "      <td>0.137628</td>\n",
       "      <td>0.150380</td>\n",
       "      <td>-0.029207</td>\n",
       "      <td>0.198999</td>\n",
       "      <td>0.240646</td>\n",
       "      <td>-0.102721</td>\n",
       "      <td>-0.099789</td>\n",
       "      <td>-0.078345</td>\n",
       "      <td>-0.084716</td>\n",
       "      <td>-0.079992</td>\n",
       "      <td>-0.075444</td>\n",
       "      <td>0.294987</td>\n",
       "      <td>-0.076379</td>\n",
       "      <td>-0.076293</td>\n",
       "      <td>-0.072451</td>\n",
       "      <td>-0.052258</td>\n",
       "      <td>-0.040026</td>\n",
       "      <td>0.342176</td>\n",
       "      <td>-0.169668</td>\n",
       "      <td>1</td>\n",
       "      <td>1</td>\n",
       "      <td>0</td>\n",
       "      <td>0</td>\n",
       "      <td>0</td>\n",
       "      <td>0</td>\n",
       "      <td>0</td>\n",
       "      <td>0</td>\n",
       "      <td>0</td>\n",
       "      <td>0</td>\n",
       "      <td>0</td>\n",
       "      <td>1</td>\n",
       "      <td>1</td>\n",
       "      <td>0</td>\n",
       "    </tr>\n",
       "    <tr>\n",
       "      <th>2414</th>\n",
       "      <td>0.082526</td>\n",
       "      <td>-0.095571</td>\n",
       "      <td>-0.022019</td>\n",
       "      <td>-0.046793</td>\n",
       "      <td>-0.038360</td>\n",
       "      <td>0.041084</td>\n",
       "      <td>0.056509</td>\n",
       "      <td>0.011749</td>\n",
       "      <td>-0.029657</td>\n",
       "      <td>-0.012198</td>\n",
       "      <td>-0.008540</td>\n",
       "      <td>-0.013902</td>\n",
       "      <td>-0.068013</td>\n",
       "      <td>0.042327</td>\n",
       "      <td>0.052293</td>\n",
       "      <td>0.050993</td>\n",
       "      <td>0.082892</td>\n",
       "      <td>-0.009390</td>\n",
       "      <td>0.029446</td>\n",
       "      <td>0.053463</td>\n",
       "      <td>0.074409</td>\n",
       "      <td>0.091427</td>\n",
       "      <td>0.059711</td>\n",
       "      <td>-0.020000</td>\n",
       "      <td>-0.020922</td>\n",
       "      <td>-0.073768</td>\n",
       "      <td>-0.061061</td>\n",
       "      <td>-0.091906</td>\n",
       "      <td>-0.046665</td>\n",
       "      <td>-0.041211</td>\n",
       "      <td>-0.047039</td>\n",
       "      <td>0.040556</td>\n",
       "      <td>-0.071408</td>\n",
       "      <td>-0.162032</td>\n",
       "      <td>-0.163358</td>\n",
       "      <td>0.012145</td>\n",
       "      <td>0.076758</td>\n",
       "      <td>-0.005729</td>\n",
       "      <td>-0.026470</td>\n",
       "      <td>-0.108322</td>\n",
       "      <td>...</td>\n",
       "      <td>-0.083398</td>\n",
       "      <td>-0.059522</td>\n",
       "      <td>-0.004905</td>\n",
       "      <td>-0.069757</td>\n",
       "      <td>0.293519</td>\n",
       "      <td>0.164906</td>\n",
       "      <td>0.172683</td>\n",
       "      <td>-0.024597</td>\n",
       "      <td>-0.056481</td>\n",
       "      <td>0.086025</td>\n",
       "      <td>-0.070759</td>\n",
       "      <td>-0.076122</td>\n",
       "      <td>-0.076408</td>\n",
       "      <td>-0.064713</td>\n",
       "      <td>-0.040290</td>\n",
       "      <td>-0.077142</td>\n",
       "      <td>-0.006624</td>\n",
       "      <td>-0.036850</td>\n",
       "      <td>-0.064831</td>\n",
       "      <td>-0.068696</td>\n",
       "      <td>-0.068521</td>\n",
       "      <td>-0.039841</td>\n",
       "      <td>0.274575</td>\n",
       "      <td>-0.066957</td>\n",
       "      <td>0.260121</td>\n",
       "      <td>-0.125303</td>\n",
       "      <td>0</td>\n",
       "      <td>0</td>\n",
       "      <td>0</td>\n",
       "      <td>0</td>\n",
       "      <td>0</td>\n",
       "      <td>1</td>\n",
       "      <td>1</td>\n",
       "      <td>1</td>\n",
       "      <td>0</td>\n",
       "      <td>0</td>\n",
       "      <td>0</td>\n",
       "      <td>1</td>\n",
       "      <td>1</td>\n",
       "      <td>0</td>\n",
       "    </tr>\n",
       "    <tr>\n",
       "      <th>2415</th>\n",
       "      <td>-0.130830</td>\n",
       "      <td>0.008868</td>\n",
       "      <td>-0.009457</td>\n",
       "      <td>-0.058930</td>\n",
       "      <td>-0.041224</td>\n",
       "      <td>0.042269</td>\n",
       "      <td>0.117717</td>\n",
       "      <td>0.037388</td>\n",
       "      <td>-0.085563</td>\n",
       "      <td>0.136649</td>\n",
       "      <td>-0.255284</td>\n",
       "      <td>-0.334406</td>\n",
       "      <td>-0.194436</td>\n",
       "      <td>-0.046137</td>\n",
       "      <td>0.049138</td>\n",
       "      <td>0.014249</td>\n",
       "      <td>0.063691</td>\n",
       "      <td>-0.065423</td>\n",
       "      <td>-0.084182</td>\n",
       "      <td>0.013208</td>\n",
       "      <td>-0.043259</td>\n",
       "      <td>-0.122727</td>\n",
       "      <td>-0.119400</td>\n",
       "      <td>-0.082374</td>\n",
       "      <td>-0.033362</td>\n",
       "      <td>-0.012996</td>\n",
       "      <td>0.014870</td>\n",
       "      <td>-0.023433</td>\n",
       "      <td>-0.023071</td>\n",
       "      <td>0.020958</td>\n",
       "      <td>0.035999</td>\n",
       "      <td>-0.025947</td>\n",
       "      <td>-0.079952</td>\n",
       "      <td>-0.137046</td>\n",
       "      <td>0.058524</td>\n",
       "      <td>0.093744</td>\n",
       "      <td>0.109146</td>\n",
       "      <td>0.013801</td>\n",
       "      <td>-0.008219</td>\n",
       "      <td>0.063381</td>\n",
       "      <td>...</td>\n",
       "      <td>-0.023212</td>\n",
       "      <td>0.000583</td>\n",
       "      <td>0.038050</td>\n",
       "      <td>-0.113469</td>\n",
       "      <td>-0.130450</td>\n",
       "      <td>-0.109596</td>\n",
       "      <td>0.032658</td>\n",
       "      <td>0.147271</td>\n",
       "      <td>0.108450</td>\n",
       "      <td>0.023597</td>\n",
       "      <td>0.195494</td>\n",
       "      <td>-0.093824</td>\n",
       "      <td>-0.072476</td>\n",
       "      <td>-0.034463</td>\n",
       "      <td>-0.000725</td>\n",
       "      <td>-0.114834</td>\n",
       "      <td>0.085087</td>\n",
       "      <td>0.033166</td>\n",
       "      <td>-0.012710</td>\n",
       "      <td>0.135359</td>\n",
       "      <td>0.213512</td>\n",
       "      <td>-0.107561</td>\n",
       "      <td>-0.081925</td>\n",
       "      <td>-0.122332</td>\n",
       "      <td>-0.022453</td>\n",
       "      <td>0.001953</td>\n",
       "      <td>0</td>\n",
       "      <td>0</td>\n",
       "      <td>0</td>\n",
       "      <td>0</td>\n",
       "      <td>0</td>\n",
       "      <td>0</td>\n",
       "      <td>0</td>\n",
       "      <td>0</td>\n",
       "      <td>0</td>\n",
       "      <td>0</td>\n",
       "      <td>0</td>\n",
       "      <td>1</td>\n",
       "      <td>1</td>\n",
       "      <td>0</td>\n",
       "    </tr>\n",
       "    <tr>\n",
       "      <th>2416</th>\n",
       "      <td>-0.171578</td>\n",
       "      <td>-0.066536</td>\n",
       "      <td>0.168206</td>\n",
       "      <td>0.246831</td>\n",
       "      <td>0.079555</td>\n",
       "      <td>0.016528</td>\n",
       "      <td>-0.088908</td>\n",
       "      <td>-0.212926</td>\n",
       "      <td>-0.280230</td>\n",
       "      <td>-0.187064</td>\n",
       "      <td>0.021891</td>\n",
       "      <td>0.257780</td>\n",
       "      <td>0.181716</td>\n",
       "      <td>0.122069</td>\n",
       "      <td>0.008877</td>\n",
       "      <td>-0.067158</td>\n",
       "      <td>-0.067343</td>\n",
       "      <td>-0.168937</td>\n",
       "      <td>-0.124432</td>\n",
       "      <td>-0.172594</td>\n",
       "      <td>0.053653</td>\n",
       "      <td>0.009450</td>\n",
       "      <td>0.053303</td>\n",
       "      <td>0.090438</td>\n",
       "      <td>0.085904</td>\n",
       "      <td>0.069243</td>\n",
       "      <td>0.030781</td>\n",
       "      <td>0.074417</td>\n",
       "      <td>0.066347</td>\n",
       "      <td>-0.050537</td>\n",
       "      <td>-0.046217</td>\n",
       "      <td>0.106744</td>\n",
       "      <td>-0.081458</td>\n",
       "      <td>0.173149</td>\n",
       "      <td>0.196126</td>\n",
       "      <td>0.057334</td>\n",
       "      <td>-0.046731</td>\n",
       "      <td>-0.171364</td>\n",
       "      <td>0.086061</td>\n",
       "      <td>0.148047</td>\n",
       "      <td>...</td>\n",
       "      <td>-0.037724</td>\n",
       "      <td>-0.097965</td>\n",
       "      <td>-0.062793</td>\n",
       "      <td>0.020469</td>\n",
       "      <td>-0.091561</td>\n",
       "      <td>-0.056605</td>\n",
       "      <td>0.087247</td>\n",
       "      <td>-0.012466</td>\n",
       "      <td>-0.037839</td>\n",
       "      <td>-0.074064</td>\n",
       "      <td>-0.076054</td>\n",
       "      <td>0.081239</td>\n",
       "      <td>-0.007374</td>\n",
       "      <td>0.056464</td>\n",
       "      <td>0.054823</td>\n",
       "      <td>0.034766</td>\n",
       "      <td>0.360199</td>\n",
       "      <td>-0.058178</td>\n",
       "      <td>-0.003104</td>\n",
       "      <td>-0.016028</td>\n",
       "      <td>0.054244</td>\n",
       "      <td>-0.017797</td>\n",
       "      <td>-0.081870</td>\n",
       "      <td>-0.083342</td>\n",
       "      <td>-0.063135</td>\n",
       "      <td>0.018810</td>\n",
       "      <td>0</td>\n",
       "      <td>1</td>\n",
       "      <td>1</td>\n",
       "      <td>0</td>\n",
       "      <td>0</td>\n",
       "      <td>0</td>\n",
       "      <td>0</td>\n",
       "      <td>0</td>\n",
       "      <td>0</td>\n",
       "      <td>0</td>\n",
       "      <td>0</td>\n",
       "      <td>1</td>\n",
       "      <td>1</td>\n",
       "      <td>0</td>\n",
       "    </tr>\n",
       "  </tbody>\n",
       "</table>\n",
       "<p>2417 rows × 117 columns</p>\n",
       "</div>"
      ],
      "text/plain": [
       "          Att1      Att2      Att3  ...  Class12  Class13  Class14\n",
       "0     0.004168 -0.170975 -0.156748  ...        1        1        0\n",
       "1    -0.103956  0.011879 -0.098986  ...        0        0        0\n",
       "2     0.509949  0.401709  0.293799  ...        1        1        0\n",
       "3     0.119092  0.004412 -0.002262  ...        0        0        0\n",
       "4     0.042037  0.007054 -0.069483  ...        0        0        0\n",
       "...        ...       ...       ...  ...      ...      ...      ...\n",
       "2412 -0.119784  0.001259 -0.123645  ...        0        0        0\n",
       "2413  0.085327  0.058590  0.085268  ...        1        1        0\n",
       "2414  0.082526 -0.095571 -0.022019  ...        1        1        0\n",
       "2415 -0.130830  0.008868 -0.009457  ...        1        1        0\n",
       "2416 -0.171578 -0.066536  0.168206  ...        1        1        0\n",
       "\n",
       "[2417 rows x 117 columns]"
      ]
     },
     "execution_count": 3,
     "metadata": {
      "tags": []
     },
     "output_type": "execute_result"
    }
   ],
   "source": [
    "dataset = pd.read_csv('https://raw.githubusercontent.com/Susmitha1694/AdvancedMachineLearning/master/yeast.csv')\n",
    "dataset"
   ]
  },
  {
   "cell_type": "markdown",
   "metadata": {
    "colab_type": "text",
    "id": "Uqn_CS3t1ojr"
   },
   "source": [
    "## Task 1: Implement the Binary Relevance Algorithm"
   ]
  },
  {
   "cell_type": "code",
   "execution_count": 0,
   "metadata": {
    "colab": {},
    "colab_type": "code",
    "id": "6FvsLLRN1ojs"
   },
   "outputs": [],
   "source": [
    "class BinaryRelevanceAlg(BaseEstimator, ClassifierMixin):\n",
    "    \n",
    "    # Constructor for the classifier object\n",
    "    def __init__(self, PredictClassifier=GaussianNB()):\n",
    "        self.PredictClassifier = PredictClassifier\n",
    "\n",
    "    # The fit function to train a classifier\n",
    "    def fit(self, X, y):\n",
    "    \n",
    "        models = []\n",
    "        \n",
    "        #For each label in the data set training a model of the given classifier on all the features \n",
    "        #and storing all individual models in a list.\n",
    "        for instance in y.columns:\n",
    "            X, y[instance] = check_X_y(X, y[instance])\n",
    "            model = copy.copy(self.PredictClassifier)\n",
    "            model.fit(X,y[instance])\n",
    "            models.append(model)\n",
    "        \n",
    "        self.models_ = models\n",
    "        \n",
    "        # Return the classifier\n",
    "        return self\n",
    "\n",
    "    # The predict function to make a set of predictions for a set of query instances\n",
    "    def predict(self, X):\n",
    "\n",
    "        # Check that the input features match the type and shape of the training features\n",
    "        X = check_array(X)\n",
    "        \n",
    "        # Initialise an empty list to store the predictions made\n",
    "        predictions = list()\n",
    "        \n",
    "        #loop thorugh all models in the list to make the predictions for each label\n",
    "        for model in self.models_:\n",
    "            predict = model.predict(X)\n",
    "            predictions.append(predict)\n",
    "        return np.array(predictions).T\n",
    "    \n",
    "    \n",
    "    # The predict function to make a set of predictions for a set of query instances\n",
    "    def predict_proba(self, X):\n",
    "\n",
    "        # Check that the input features match the type and shape of the training features\n",
    "        X = check_array(X)\n",
    "        \n",
    "         # Initialise an empty list to store the predictions made\n",
    "        predict_proba_list = list()\n",
    "        \n",
    "        #loop thorugh all models in the list to make the predictions and probabilites for each label\n",
    "        for model in self.models_:\n",
    "            predict_pro = model.predict_proba(X)\n",
    "            predict_proba_list.append(predict_pro)\n",
    "            \n",
    "        return np.array(predict_proba_list).T"
   ]
  },
  {
   "cell_type": "code",
   "execution_count": 0,
   "metadata": {
    "colab": {},
    "colab_type": "code",
    "id": "m5qNV_L81ojv"
   },
   "outputs": [],
   "source": [
    "#Splitting the data set in to features and labels\n",
    "x = dataset.iloc[:,:-14]\n",
    "y = dataset.iloc[:,-14:]"
   ]
  },
  {
   "cell_type": "code",
   "execution_count": 0,
   "metadata": {
    "colab": {},
    "colab_type": "code",
    "id": "cDGRWGUi1ojy"
   },
   "outputs": [],
   "source": [
    "#Dividing the features and labels into training set and test set\n",
    "X_train, x_test, y_train, y_test = train_test_split(x, y, test_size = 0.2)"
   ]
  },
  {
   "cell_type": "code",
   "execution_count": 0,
   "metadata": {
    "colab": {},
    "colab_type": "code",
    "id": "10GxBh511oj2"
   },
   "outputs": [],
   "source": [
    "#Lists to store the hamming loss values for each algorithm\n",
    "binaryRelevanceList = []\n",
    "binaryRelevanceWithUndersamplingList = []\n",
    "chainClassificationList = []"
   ]
  },
  {
   "cell_type": "markdown",
   "metadata": {
    "colab_type": "text",
    "id": "DvZdsf3n1oj5"
   },
   "source": [
    "## Evaluation of Binary Relevance"
   ]
  },
  {
   "cell_type": "markdown",
   "metadata": {
    "colab_type": "text",
    "id": "Hv4Jjaa51oj6"
   },
   "source": [
    "### Classifier 1 : Naive Bayes"
   ]
  },
  {
   "cell_type": "code",
   "execution_count": 8,
   "metadata": {
    "colab": {
     "base_uri": "https://localhost:8080/",
     "height": 52
    },
    "colab_type": "code",
    "id": "gwWE0cJg1oj7",
    "outputId": "213686c9-16f5-4004-ad39-88b462906d4b"
   },
   "outputs": [
    {
     "data": {
      "text/plain": [
       "BinaryRelevanceAlg(PredictClassifier=GaussianNB(priors=None,\n",
       "                                                var_smoothing=1e-09))"
      ]
     },
     "execution_count": 8,
     "metadata": {
      "tags": []
     },
     "output_type": "execute_result"
    }
   ],
   "source": [
    "my_model_NB = BinaryRelevanceAlg(GaussianNB())\n",
    "my_model_NB.fit(X_train, y_train)"
   ]
  },
  {
   "cell_type": "code",
   "execution_count": 9,
   "metadata": {
    "colab": {
     "base_uri": "https://localhost:8080/",
     "height": 468
    },
    "colab_type": "code",
    "id": "dlhzM3-F1oj_",
    "outputId": "23fe59e8-ca47-4f89-8fca-14d3b4051c30"
   },
   "outputs": [
    {
     "name": "stdout",
     "output_type": "stream",
     "text": [
      "hamming_loss: 0.29412632821723733\n",
      "\n",
      "\n",
      "\n",
      "              precision    recall  f1-score   support\n",
      "\n",
      "           0       0.56      0.65      0.60       143\n",
      "           1       0.52      0.67      0.59       206\n",
      "           2       0.65      0.76      0.70       201\n",
      "           3       0.65      0.58      0.61       180\n",
      "           4       0.57      0.51      0.54       152\n",
      "           5       0.41      0.53      0.46       124\n",
      "           6       0.29      0.49      0.37        90\n",
      "           7       0.31      0.54      0.39       102\n",
      "           8       0.08      0.23      0.12        40\n",
      "           9       0.22      0.48      0.30        56\n",
      "          10       0.24      0.39      0.30        70\n",
      "          11       0.82      0.65      0.73       369\n",
      "          12       0.82      0.65      0.72       364\n",
      "          13       0.04      0.22      0.07         9\n",
      "\n",
      "   micro avg       0.52      0.60      0.56      2106\n",
      "   macro avg       0.44      0.52      0.46      2106\n",
      "weighted avg       0.60      0.60      0.59      2106\n",
      " samples avg       0.55      0.61      0.55      2106\n",
      "\n"
     ]
    }
   ],
   "source": [
    "# Make a set of predictions for the training data\n",
    "y_pred = my_model_NB.predict(x_test)\n",
    "\n",
    "ham_loss = hamming_loss(y_test, y_pred)\n",
    "print(\"hamming_loss: \" +  str(ham_loss))\n",
    "\n",
    "print(\"\\n\\n\")\n",
    "print(metrics.classification_report(y_test, y_pred))"
   ]
  },
  {
   "cell_type": "code",
   "execution_count": 0,
   "metadata": {
    "colab": {},
    "colab_type": "code",
    "id": "bkn1u7iN1okC"
   },
   "outputs": [],
   "source": [
    "binaryRelevanceList.append(round(ham_loss,3))"
   ]
  },
  {
   "cell_type": "code",
   "execution_count": 11,
   "metadata": {
    "colab": {
     "base_uri": "https://localhost:8080/",
     "height": 485
    },
    "colab_type": "code",
    "id": "-Neug7pH1okE",
    "outputId": "550cc66f-7177-4a48-8144-350d5346ee9e"
   },
   "outputs": [
    {
     "data": {
      "text/plain": [
       "array([[[9.96639774e-01, 9.66466695e-01, 5.59303472e-01, ...,\n",
       "         9.34292456e-03, 7.36342450e-03, 9.99845643e-01],\n",
       "        [1.07392885e-01, 2.02884152e-04, 2.23900907e-02, ...,\n",
       "         9.51656415e-01, 9.37571401e-01, 9.99960328e-01],\n",
       "        [9.87501495e-01, 8.00867502e-01, 1.47116645e-01, ...,\n",
       "         7.04888243e-03, 8.99262034e-03, 9.99994629e-01],\n",
       "        ...,\n",
       "        [2.12813779e-07, 5.40235847e-03, 9.99924442e-01, ...,\n",
       "         9.99448474e-01, 9.99220187e-01, 1.00000000e+00],\n",
       "        [1.12346569e-01, 5.98445103e-02, 6.92549532e-01, ...,\n",
       "         2.08065998e-01, 2.44976099e-01, 9.99999011e-01],\n",
       "        [9.92305132e-01, 2.83575749e-03, 3.84515585e-05, ...,\n",
       "         6.37845352e-01, 5.29838130e-01, 6.84220876e-04]],\n",
       "\n",
       "       [[3.36022634e-03, 3.35333046e-02, 4.40696528e-01, ...,\n",
       "         9.90657075e-01, 9.92636575e-01, 1.54356765e-04],\n",
       "        [8.92607115e-01, 9.99797116e-01, 9.77609909e-01, ...,\n",
       "         4.83435849e-02, 6.24285991e-02, 3.96722835e-05],\n",
       "        [1.24985049e-02, 1.99132498e-01, 8.52883355e-01, ...,\n",
       "         9.92951118e-01, 9.91007380e-01, 5.37138409e-06],\n",
       "        ...,\n",
       "        [9.99999787e-01, 9.94597642e-01, 7.55583911e-05, ...,\n",
       "         5.51526393e-04, 7.79812699e-04, 1.00329320e-12],\n",
       "        [8.87653431e-01, 9.40155490e-01, 3.07450468e-01, ...,\n",
       "         7.91934002e-01, 7.55023901e-01, 9.89141799e-07],\n",
       "        [7.69486818e-03, 9.97164243e-01, 9.99961548e-01, ...,\n",
       "         3.62154648e-01, 4.70161870e-01, 9.99315779e-01]]])"
      ]
     },
     "execution_count": 11,
     "metadata": {
      "tags": []
     },
     "output_type": "execute_result"
    }
   ],
   "source": [
    "y_pred_prob = my_model_NB.predict_proba(x_test)\n",
    "y_pred_prob"
   ]
  },
  {
   "cell_type": "markdown",
   "metadata": {
    "colab_type": "text",
    "id": "OqKN58Sx1okI"
   },
   "source": [
    "### Classifier 2 : Decision Tree"
   ]
  },
  {
   "cell_type": "code",
   "execution_count": 12,
   "metadata": {
    "colab": {
     "base_uri": "https://localhost:8080/",
     "height": 260
    },
    "colab_type": "code",
    "id": "0Pjoq1T61okJ",
    "outputId": "7b0c2ed8-0385-482d-c769-8b73bc59db65"
   },
   "outputs": [
    {
     "data": {
      "text/plain": [
       "BinaryRelevanceAlg(PredictClassifier=DecisionTreeClassifier(ccp_alpha=0.0,\n",
       "                                                            class_weight=None,\n",
       "                                                            criterion='entropy',\n",
       "                                                            max_depth=None,\n",
       "                                                            max_features=None,\n",
       "                                                            max_leaf_nodes=None,\n",
       "                                                            min_impurity_decrease=0.0,\n",
       "                                                            min_impurity_split=None,\n",
       "                                                            min_samples_leaf=1,\n",
       "                                                            min_samples_split=2,\n",
       "                                                            min_weight_fraction_leaf=0.0,\n",
       "                                                            presort='deprecated',\n",
       "                                                            random_state=None,\n",
       "                                                            splitter='best'))"
      ]
     },
     "execution_count": 12,
     "metadata": {
      "tags": []
     },
     "output_type": "execute_result"
    }
   ],
   "source": [
    "my_model_DT = BinaryRelevanceAlg(tree.DecisionTreeClassifier(criterion=\"entropy\"))\n",
    "my_model_DT.fit(X_train, y_train)"
   ]
  },
  {
   "cell_type": "code",
   "execution_count": 13,
   "metadata": {
    "colab": {
     "base_uri": "https://localhost:8080/",
     "height": 468
    },
    "colab_type": "code",
    "id": "tpcALH5p1okM",
    "outputId": "196bd561-3270-4cbe-9eac-10cb8d4f5cc4"
   },
   "outputs": [
    {
     "name": "stdout",
     "output_type": "stream",
     "text": [
      "hamming_loss: 0.27361275088547815\n",
      "\n",
      "\n",
      "\n",
      "              precision    recall  f1-score   support\n",
      "\n",
      "           0       0.52      0.51      0.51       143\n",
      "           1       0.52      0.53      0.52       206\n",
      "           2       0.62      0.61      0.61       201\n",
      "           3       0.63      0.58      0.60       180\n",
      "           4       0.50      0.49      0.50       152\n",
      "           5       0.32      0.34      0.33       124\n",
      "           6       0.33      0.38      0.35        90\n",
      "           7       0.31      0.39      0.35       102\n",
      "           8       0.12      0.07      0.09        40\n",
      "           9       0.17      0.14      0.15        56\n",
      "          10       0.25      0.20      0.22        70\n",
      "          11       0.77      0.75      0.76       369\n",
      "          12       0.75      0.71      0.73       364\n",
      "          13       0.00      0.00      0.00         9\n",
      "\n",
      "   micro avg       0.56      0.55      0.56      2106\n",
      "   macro avg       0.41      0.41      0.41      2106\n",
      "weighted avg       0.56      0.55      0.56      2106\n",
      " samples avg       0.58      0.56      0.54      2106\n",
      "\n"
     ]
    }
   ],
   "source": [
    "# Make a set of predictions for the training data\n",
    "y_pred = my_model_DT.predict(x_test)\n",
    "\n",
    "ham_loss = hamming_loss(y_test, y_pred)\n",
    "print(\"hamming_loss: \" +  str(ham_loss))\n",
    "\n",
    "print(\"\\n\\n\")\n",
    "print(metrics.classification_report(y_test, y_pred))"
   ]
  },
  {
   "cell_type": "code",
   "execution_count": 0,
   "metadata": {
    "colab": {},
    "colab_type": "code",
    "id": "p0wdNn471okQ"
   },
   "outputs": [],
   "source": [
    "binaryRelevanceList.append(round(ham_loss,3))"
   ]
  },
  {
   "cell_type": "code",
   "execution_count": 15,
   "metadata": {
    "colab": {
     "base_uri": "https://localhost:8080/",
     "height": 277
    },
    "colab_type": "code",
    "id": "Xya-bEHO1okS",
    "outputId": "7074e565-5a9e-4068-ee44-3bdd9bcc14c6"
   },
   "outputs": [
    {
     "data": {
      "text/plain": [
       "array([[[1., 1., 0., ..., 1., 0., 1.],\n",
       "        [1., 0., 0., ..., 0., 0., 1.],\n",
       "        [1., 1., 1., ..., 0., 0., 1.],\n",
       "        ...,\n",
       "        [1., 1., 1., ..., 0., 1., 1.],\n",
       "        [1., 1., 1., ..., 0., 0., 1.],\n",
       "        [1., 1., 0., ..., 1., 0., 1.]],\n",
       "\n",
       "       [[0., 0., 1., ..., 0., 1., 0.],\n",
       "        [0., 1., 1., ..., 1., 1., 0.],\n",
       "        [0., 0., 0., ..., 1., 1., 0.],\n",
       "        ...,\n",
       "        [0., 0., 0., ..., 1., 0., 0.],\n",
       "        [0., 0., 0., ..., 1., 1., 0.],\n",
       "        [0., 0., 1., ..., 0., 1., 0.]]])"
      ]
     },
     "execution_count": 15,
     "metadata": {
      "tags": []
     },
     "output_type": "execute_result"
    }
   ],
   "source": [
    "y_pred_prob = my_model_DT.predict_proba(x_test)\n",
    "y_pred_prob"
   ]
  },
  {
   "cell_type": "markdown",
   "metadata": {
    "colab_type": "text",
    "id": "QIkJpMlx1okV"
   },
   "source": [
    "### Classifier 3 : Random Forest"
   ]
  },
  {
   "cell_type": "code",
   "execution_count": 16,
   "metadata": {
    "colab": {
     "base_uri": "https://localhost:8080/",
     "height": 347
    },
    "colab_type": "code",
    "id": "LAb7MGRs1okW",
    "outputId": "18426b12-fd6d-42f5-e0ab-e94fdc288330"
   },
   "outputs": [
    {
     "data": {
      "text/plain": [
       "BinaryRelevanceAlg(PredictClassifier=RandomForestClassifier(bootstrap=True,\n",
       "                                                            ccp_alpha=0.0,\n",
       "                                                            class_weight=None,\n",
       "                                                            criterion='gini',\n",
       "                                                            max_depth=None,\n",
       "                                                            max_features=3,\n",
       "                                                            max_leaf_nodes=None,\n",
       "                                                            max_samples=None,\n",
       "                                                            min_impurity_decrease=0.0,\n",
       "                                                            min_impurity_split=None,\n",
       "                                                            min_samples_leaf=1,\n",
       "                                                            min_samples_split=200,\n",
       "                                                            min_weight_fraction_leaf=0.0,\n",
       "                                                            n_estimators=300,\n",
       "                                                            n_jobs=None,\n",
       "                                                            oob_score=False,\n",
       "                                                            random_state=None,\n",
       "                                                            verbose=0,\n",
       "                                                            warm_start=False))"
      ]
     },
     "execution_count": 16,
     "metadata": {
      "tags": []
     },
     "output_type": "execute_result"
    }
   ],
   "source": [
    "my_model_RF = BinaryRelevanceAlg(ensemble.RandomForestClassifier(n_estimators=300, max_features = 3, min_samples_split=200))\n",
    "my_model_RF.fit(X_train, y_train)"
   ]
  },
  {
   "cell_type": "code",
   "execution_count": 17,
   "metadata": {
    "colab": {
     "base_uri": "https://localhost:8080/",
     "height": 468
    },
    "colab_type": "code",
    "id": "_bGZxi6A1okY",
    "outputId": "cdaefc96-417c-4124-9030-de3d2fcf5b67"
   },
   "outputs": [
    {
     "name": "stdout",
     "output_type": "stream",
     "text": [
      "hamming_loss: 0.21384297520661158\n",
      "\n",
      "\n",
      "\n",
      "              precision    recall  f1-score   support\n",
      "\n",
      "           0       0.88      0.16      0.27       143\n",
      "           1       0.65      0.28      0.39       206\n",
      "           2       0.76      0.34      0.47       201\n",
      "           3       0.94      0.25      0.39       180\n",
      "           4       0.96      0.16      0.27       152\n",
      "           5       0.00      0.00      0.00       124\n",
      "           6       0.00      0.00      0.00        90\n",
      "           7       0.00      0.00      0.00       102\n",
      "           8       0.00      0.00      0.00        40\n",
      "           9       0.00      0.00      0.00        56\n",
      "          10       0.00      0.00      0.00        70\n",
      "          11       0.76      1.00      0.87       369\n",
      "          12       0.75      1.00      0.86       364\n",
      "          13       0.00      0.00      0.00         9\n",
      "\n",
      "   micro avg       0.76      0.45      0.57      2106\n",
      "   macro avg       0.41      0.23      0.25      2106\n",
      "weighted avg       0.61      0.45      0.45      2106\n",
      " samples avg       0.76      0.45      0.54      2106\n",
      "\n"
     ]
    }
   ],
   "source": [
    "# Make a set of predictions for the training data\n",
    "y_pred = my_model_RF.predict(x_test)\n",
    "\n",
    "ham_loss = hamming_loss(y_test, y_pred)\n",
    "print(\"hamming_loss: \" +  str(ham_loss))\n",
    "\n",
    "print(\"\\n\\n\")\n",
    "print(metrics.classification_report(y_test, y_pred))"
   ]
  },
  {
   "cell_type": "code",
   "execution_count": 0,
   "metadata": {
    "colab": {},
    "colab_type": "code",
    "id": "jWVq-Y_e1okb"
   },
   "outputs": [],
   "source": [
    "binaryRelevanceList.append(round(ham_loss,3))"
   ]
  },
  {
   "cell_type": "code",
   "execution_count": 19,
   "metadata": {
    "colab": {
     "base_uri": "https://localhost:8080/",
     "height": 485
    },
    "colab_type": "code",
    "id": "SXDcj9gp1okf",
    "outputId": "1bce685a-cd10-4d7d-9890-ae2bf365250b"
   },
   "outputs": [
    {
     "data": {
      "text/plain": [
       "array([[[0.71201677, 0.61397731, 0.57326547, ..., 0.19742182,\n",
       "         0.21054889, 0.97982952],\n",
       "        [0.72440081, 0.49218882, 0.50877234, ..., 0.28283774,\n",
       "         0.26591634, 0.98885663],\n",
       "        [0.69451312, 0.53681155, 0.58080623, ..., 0.21215868,\n",
       "         0.21764025, 0.98884878],\n",
       "        ...,\n",
       "        [0.56064918, 0.50842828, 0.66919038, ..., 0.32100905,\n",
       "         0.32616277, 0.9935432 ],\n",
       "        [0.66089332, 0.54904818, 0.59566025, ..., 0.26470743,\n",
       "         0.29054009, 0.98366352],\n",
       "        [0.73726745, 0.52883667, 0.44884541, ..., 0.27595624,\n",
       "         0.28598776, 0.99058563]],\n",
       "\n",
       "       [[0.28798323, 0.38602269, 0.42673453, ..., 0.80257818,\n",
       "         0.78945111, 0.02017048],\n",
       "        [0.27559919, 0.50781118, 0.49122766, ..., 0.71716226,\n",
       "         0.73408366, 0.01114337],\n",
       "        [0.30548688, 0.46318845, 0.41919377, ..., 0.78784132,\n",
       "         0.78235975, 0.01115122],\n",
       "        ...,\n",
       "        [0.43935082, 0.49157172, 0.33080962, ..., 0.67899095,\n",
       "         0.67383723, 0.0064568 ],\n",
       "        [0.33910668, 0.45095182, 0.40433975, ..., 0.73529257,\n",
       "         0.70945991, 0.01633648],\n",
       "        [0.26273255, 0.47116333, 0.55115459, ..., 0.72404376,\n",
       "         0.71401224, 0.00941437]]])"
      ]
     },
     "execution_count": 19,
     "metadata": {
      "tags": []
     },
     "output_type": "execute_result"
    }
   ],
   "source": [
    "y_pred_prob = my_model_RF.predict_proba(x_test)\n",
    "y_pred_prob"
   ]
  },
  {
   "cell_type": "markdown",
   "metadata": {
    "colab_type": "text",
    "id": "gLAwAUzF1okh"
   },
   "source": [
    "### Classifier 4 : Logistic Regression"
   ]
  },
  {
   "cell_type": "code",
   "execution_count": 20,
   "metadata": {
    "colab": {
     "base_uri": "https://localhost:8080/",
     "height": 260
    },
    "colab_type": "code",
    "id": "nM8xZRqO1oki",
    "outputId": "5eac25c4-9f07-4825-d0df-88d6e57670c8"
   },
   "outputs": [
    {
     "data": {
      "text/plain": [
       "BinaryRelevanceAlg(PredictClassifier=LogisticRegression(C=1.0,\n",
       "                                                        class_weight=None,\n",
       "                                                        dual=False,\n",
       "                                                        fit_intercept=True,\n",
       "                                                        intercept_scaling=1,\n",
       "                                                        l1_ratio=None,\n",
       "                                                        max_iter=100,\n",
       "                                                        multi_class='auto',\n",
       "                                                        n_jobs=None,\n",
       "                                                        penalty='l2',\n",
       "                                                        random_state=None,\n",
       "                                                        solver='lbfgs',\n",
       "                                                        tol=0.0001, verbose=0,\n",
       "                                                        warm_start=False))"
      ]
     },
     "execution_count": 20,
     "metadata": {
      "tags": []
     },
     "output_type": "execute_result"
    }
   ],
   "source": [
    "my_model_LR = BinaryRelevanceAlg(linear_model.LogisticRegression())\n",
    "my_model_LR.fit(X_train, y_train)"
   ]
  },
  {
   "cell_type": "code",
   "execution_count": 21,
   "metadata": {
    "colab": {
     "base_uri": "https://localhost:8080/",
     "height": 468
    },
    "colab_type": "code",
    "id": "2IGK00LZ1okl",
    "outputId": "08d3b576-b363-4cdc-d116-b48b6b5732e7"
   },
   "outputs": [
    {
     "name": "stdout",
     "output_type": "stream",
     "text": [
      "hamming_loss: 0.20306965761511217\n",
      "\n",
      "\n",
      "\n",
      "              precision    recall  f1-score   support\n",
      "\n",
      "           0       0.68      0.48      0.56       143\n",
      "           1       0.55      0.49      0.51       206\n",
      "           2       0.70      0.63      0.66       201\n",
      "           3       0.71      0.54      0.61       180\n",
      "           4       0.80      0.38      0.51       152\n",
      "           5       0.70      0.17      0.27       124\n",
      "           6       1.00      0.03      0.06        90\n",
      "           7       0.67      0.02      0.04       102\n",
      "           8       0.00      0.00      0.00        40\n",
      "           9       0.00      0.00      0.00        56\n",
      "          10       0.00      0.00      0.00        70\n",
      "          11       0.76      0.98      0.86       369\n",
      "          12       0.75      0.98      0.85       364\n",
      "          13       0.00      0.00      0.00         9\n",
      "\n",
      "   micro avg       0.72      0.57      0.63      2106\n",
      "   macro avg       0.52      0.34      0.35      2106\n",
      "weighted avg       0.66      0.57      0.56      2106\n",
      " samples avg       0.72      0.57      0.61      2106\n",
      "\n"
     ]
    }
   ],
   "source": [
    "# Make a set of predictions for the training data\n",
    "y_pred = my_model_LR.predict(x_test)\n",
    "\n",
    "ham_loss = hamming_loss(y_test, y_pred)\n",
    "print(\"hamming_loss: \" +  str(ham_loss))\n",
    "\n",
    "print(\"\\n\\n\")\n",
    "print(metrics.classification_report(y_test, y_pred))"
   ]
  },
  {
   "cell_type": "code",
   "execution_count": 0,
   "metadata": {
    "colab": {},
    "colab_type": "code",
    "id": "9SELABqc1okn"
   },
   "outputs": [],
   "source": [
    "binaryRelevanceList.append(round(ham_loss,3))"
   ]
  },
  {
   "cell_type": "code",
   "execution_count": 23,
   "metadata": {
    "colab": {
     "base_uri": "https://localhost:8080/",
     "height": 277
    },
    "colab_type": "code",
    "id": "OcLiOBIr1okq",
    "outputId": "2f3238e8-bb88-439f-d804-675725f21cbe"
   },
   "outputs": [
    {
     "data": {
      "text/plain": [
       "array([[[1., 1., 0., ..., 1., 0., 1.],\n",
       "        [1., 0., 0., ..., 0., 0., 1.],\n",
       "        [1., 1., 1., ..., 0., 0., 1.],\n",
       "        ...,\n",
       "        [1., 1., 1., ..., 0., 1., 1.],\n",
       "        [1., 1., 1., ..., 0., 0., 1.],\n",
       "        [1., 1., 0., ..., 1., 0., 1.]],\n",
       "\n",
       "       [[0., 0., 1., ..., 0., 1., 0.],\n",
       "        [0., 1., 1., ..., 1., 1., 0.],\n",
       "        [0., 0., 0., ..., 1., 1., 0.],\n",
       "        ...,\n",
       "        [0., 0., 0., ..., 1., 0., 0.],\n",
       "        [0., 0., 0., ..., 1., 1., 0.],\n",
       "        [0., 0., 1., ..., 0., 1., 0.]]])"
      ]
     },
     "execution_count": 23,
     "metadata": {
      "tags": []
     },
     "output_type": "execute_result"
    }
   ],
   "source": [
    "y_pred_prob = my_model_DT.predict_proba(x_test)\n",
    "y_pred_prob"
   ]
  },
  {
   "cell_type": "markdown",
   "metadata": {
    "colab_type": "text",
    "id": "blomXWvH1okt"
   },
   "source": [
    "## Task 2: Implement the Binary Relevance Algorithm with Under-Sampling"
   ]
  },
  {
   "cell_type": "code",
   "execution_count": 0,
   "metadata": {
    "colab": {},
    "colab_type": "code",
    "id": "-Od5NKPt1okt"
   },
   "outputs": [],
   "source": [
    "class BinaryRelevanceAlgWithUnderSampling(BaseEstimator, ClassifierMixin):\n",
    "    \n",
    "    # Constructor for the classifier object\n",
    "    def __init__(self, PredictClassifier=GaussianNB(),underSampling=False):\n",
    "        self.PredictClassifier = PredictClassifier\n",
    "        self.underSampling = underSampling\n",
    "\n",
    "    # The fit function to train a classifier\n",
    "    def fit(self, X, y):\n",
    "        \n",
    "        models = []\n",
    "          \n",
    "        #For each label in the data set training a model of the given classifier on all the features \n",
    "        #and storing all individual models in a list.\n",
    "        for instance in y.columns:\n",
    "            X, y[instance] = check_X_y(X, y[instance])\n",
    "            x_resampled = X\n",
    "            y_resampled = y[instance]\n",
    "            #performing undersampling\n",
    "            if self.underSampling == True:\n",
    "                cc = RandomUnderSampler(random_state=0)\n",
    "                x_resampled, y_resampled = cc.fit_resample(x_resampled, y_resampled)\n",
    "            model = copy.copy(self.PredictClassifier)\n",
    "            model.fit(x_resampled,y_resampled)\n",
    "            models.append(model)\n",
    "\n",
    "        self.models_ = models\n",
    "        \n",
    "        # Return the classifier\n",
    "        return self\n",
    "\n",
    "    # The predict function to make a set of predictions for a set of query instances\n",
    "    def predict(self, X):\n",
    "\n",
    "        # Check that the input features match the type and shape of the training features\n",
    "        X = check_array(X)\n",
    "        \n",
    "        # Initialise an empty list to store the predictions made\n",
    "        predictions = list()\n",
    "        \n",
    "        #loop thorugh all models in the list to make the predictions for each label\n",
    "        for model in self.models_:\n",
    "            predict = model.predict(X)\n",
    "            predictions.append(predict)\n",
    "        return np.array(predictions).T\n",
    "    \n",
    "    \n",
    "    # The predict function to make a set of predictions for a set of query instances\n",
    "    def predict_proba(self, X):\n",
    "\n",
    "        # Check that the input features match the type and shape of the training features\n",
    "        X = check_array(X)\n",
    "        \n",
    "         # Initialise an empty list to store the predictions made\n",
    "        predict_proba_list = list()\n",
    "        \n",
    "        #loop thorugh all models in the list to make the predictions and probabilities for each label\n",
    "        for model in self.models_:\n",
    "            predict_pro = model.predict_proba(X)\n",
    "            predict_proba_list.append(predict_pro)\n",
    "            \n",
    "        return np.array(predict_proba_list).T"
   ]
  },
  {
   "cell_type": "markdown",
   "metadata": {
    "colab_type": "text",
    "id": "n18AmLXi1okw"
   },
   "source": [
    "## Evaluation of Binary Relevance with Under Sampling"
   ]
  },
  {
   "cell_type": "markdown",
   "metadata": {
    "colab_type": "text",
    "id": "NJ1sbaMo1okw"
   },
   "source": [
    "### Classifier 1 : Naive Bayes"
   ]
  },
  {
   "cell_type": "code",
   "execution_count": 25,
   "metadata": {
    "colab": {
     "base_uri": "https://localhost:8080/",
     "height": 69
    },
    "colab_type": "code",
    "id": "HNEWnawt1okx",
    "outputId": "a6e4030a-ec16-4db8-d315-37d71ae87e44"
   },
   "outputs": [
    {
     "data": {
      "text/plain": [
       "BinaryRelevanceAlgWithUnderSampling(PredictClassifier=GaussianNB(priors=None,\n",
       "                                                                 var_smoothing=1e-09),\n",
       "                                    underSampling=True)"
      ]
     },
     "execution_count": 25,
     "metadata": {
      "tags": []
     },
     "output_type": "execute_result"
    }
   ],
   "source": [
    "my_model_US_NB = BinaryRelevanceAlgWithUnderSampling(GaussianNB(),True)\n",
    "my_model_US_NB.fit(X_train, y_train)"
   ]
  },
  {
   "cell_type": "code",
   "execution_count": 26,
   "metadata": {
    "colab": {
     "base_uri": "https://localhost:8080/",
     "height": 468
    },
    "colab_type": "code",
    "id": "PEnwK2Zx1ok0",
    "outputId": "06f2ea18-2aae-4c77-8505-cdd41fb0ad48"
   },
   "outputs": [
    {
     "name": "stdout",
     "output_type": "stream",
     "text": [
      "hamming_loss: 0.3735242030696576\n",
      "\n",
      "\n",
      "\n",
      "              precision    recall  f1-score   support\n",
      "\n",
      "           0       0.52      0.66      0.58       143\n",
      "           1       0.52      0.71      0.60       206\n",
      "           2       0.63      0.77      0.69       201\n",
      "           3       0.61      0.63      0.62       180\n",
      "           4       0.53      0.55      0.54       152\n",
      "           5       0.40      0.62      0.49       124\n",
      "           6       0.24      0.56      0.33        90\n",
      "           7       0.28      0.63      0.39       102\n",
      "           8       0.10      0.60      0.17        40\n",
      "           9       0.18      0.75      0.29        56\n",
      "          10       0.20      0.64      0.31        70\n",
      "          11       0.84      0.51      0.63       369\n",
      "          12       0.82      0.52      0.64       364\n",
      "          13       0.03      0.44      0.05         9\n",
      "\n",
      "   micro avg       0.43      0.61      0.50      2106\n",
      "   macro avg       0.42      0.61      0.45      2106\n",
      "weighted avg       0.59      0.61      0.56      2106\n",
      " samples avg       0.45      0.62      0.50      2106\n",
      "\n"
     ]
    }
   ],
   "source": [
    "# Make a set of predictions for the training data\n",
    "y_pred = my_model_US_NB.predict(x_test)\n",
    "\n",
    "ham_loss = hamming_loss(y_test, y_pred)\n",
    "print(\"hamming_loss: \" +  str(ham_loss))\n",
    "\n",
    "print(\"\\n\\n\")\n",
    "print(metrics.classification_report(y_test, y_pred))"
   ]
  },
  {
   "cell_type": "code",
   "execution_count": 0,
   "metadata": {
    "colab": {},
    "colab_type": "code",
    "id": "Gf-CQNk01ok3"
   },
   "outputs": [],
   "source": [
    "binaryRelevanceWithUndersamplingList.append(round(ham_loss,3))"
   ]
  },
  {
   "cell_type": "code",
   "execution_count": 28,
   "metadata": {
    "colab": {
     "base_uri": "https://localhost:8080/",
     "height": 485
    },
    "colab_type": "code",
    "id": "73GSk0aR1ok5",
    "outputId": "1f373c25-b0db-4752-a451-f6617cab0ad7"
   },
   "outputs": [
    {
     "data": {
      "text/plain": [
       "array([[[9.90171848e-01, 9.31739930e-01, 2.35125369e-01, ...,\n",
       "         1.00658751e-02, 6.25679334e-02, 2.76191157e-02],\n",
       "        [3.48565694e-02, 2.90904586e-04, 1.63998320e-03, ...,\n",
       "         9.55729128e-01, 9.96179196e-01, 8.45721178e-01],\n",
       "        [9.62720781e-01, 8.30659429e-01, 1.25442867e-01, ...,\n",
       "         7.91203840e-02, 2.70025351e-02, 9.99198364e-01],\n",
       "        ...,\n",
       "        [8.78605183e-08, 7.85926771e-03, 9.99943422e-01, ...,\n",
       "         9.98022135e-01, 9.99655631e-01, 7.35453494e-01],\n",
       "        [1.96414784e-01, 6.28043346e-02, 6.65864584e-01, ...,\n",
       "         4.29711275e-01, 9.84144622e-02, 1.16401622e-04],\n",
       "        [8.60085374e-01, 1.38008558e-03, 1.21188088e-05, ...,\n",
       "         9.93572547e-01, 6.31223911e-02, 6.84020572e-01]],\n",
       "\n",
       "       [[9.82815186e-03, 6.82600703e-02, 7.64874631e-01, ...,\n",
       "         9.89934125e-01, 9.37432067e-01, 9.72380884e-01],\n",
       "        [9.65143431e-01, 9.99709095e-01, 9.98360017e-01, ...,\n",
       "         4.42708721e-02, 3.82080421e-03, 1.54278822e-01],\n",
       "        [3.72792187e-02, 1.69340571e-01, 8.74557133e-01, ...,\n",
       "         9.20879616e-01, 9.72997465e-01, 8.01636066e-04],\n",
       "        ...,\n",
       "        [9.99999912e-01, 9.92140732e-01, 5.65782233e-05, ...,\n",
       "         1.97786462e-03, 3.44369132e-04, 2.64546506e-01],\n",
       "        [8.03585216e-01, 9.37195665e-01, 3.34135416e-01, ...,\n",
       "         5.70288725e-01, 9.01585538e-01, 9.99883598e-01],\n",
       "        [1.39914626e-01, 9.98619914e-01, 9.99987881e-01, ...,\n",
       "         6.42745331e-03, 9.36877609e-01, 3.15979428e-01]]])"
      ]
     },
     "execution_count": 28,
     "metadata": {
      "tags": []
     },
     "output_type": "execute_result"
    }
   ],
   "source": [
    "y_pred_prob = my_model_US_NB.predict_proba(x_test)\n",
    "y_pred_prob"
   ]
  },
  {
   "cell_type": "markdown",
   "metadata": {
    "colab_type": "text",
    "id": "Pk3jaSrH1ok8"
   },
   "source": [
    "### Classifier 2 : Decision Trees"
   ]
  },
  {
   "cell_type": "code",
   "execution_count": 29,
   "metadata": {
    "colab": {
     "base_uri": "https://localhost:8080/",
     "height": 277
    },
    "colab_type": "code",
    "id": "9S-Mpxo01ok9",
    "outputId": "152f3600-7fbf-4801-f4b6-3cfdb2a8e415"
   },
   "outputs": [
    {
     "data": {
      "text/plain": [
       "BinaryRelevanceAlgWithUnderSampling(PredictClassifier=DecisionTreeClassifier(ccp_alpha=0.0,\n",
       "                                                                             class_weight=None,\n",
       "                                                                             criterion='entropy',\n",
       "                                                                             max_depth=None,\n",
       "                                                                             max_features=None,\n",
       "                                                                             max_leaf_nodes=None,\n",
       "                                                                             min_impurity_decrease=0.0,\n",
       "                                                                             min_impurity_split=None,\n",
       "                                                                             min_samples_leaf=1,\n",
       "                                                                             min_samples_split=2,\n",
       "                                                                             min_weight_fraction_leaf=0.0,\n",
       "                                                                             presort='deprecated',\n",
       "                                                                             random_state=None,\n",
       "                                                                             splitter='best'),\n",
       "                                    underSampling=True)"
      ]
     },
     "execution_count": 29,
     "metadata": {
      "tags": []
     },
     "output_type": "execute_result"
    }
   ],
   "source": [
    "my_model_US_DT = BinaryRelevanceAlgWithUnderSampling(tree.DecisionTreeClassifier(criterion=\"entropy\"),True)\n",
    "my_model_US_DT.fit(X_train, y_train)"
   ]
  },
  {
   "cell_type": "code",
   "execution_count": 30,
   "metadata": {
    "colab": {
     "base_uri": "https://localhost:8080/",
     "height": 468
    },
    "colab_type": "code",
    "id": "sSQjNWy51olA",
    "outputId": "45f10d4c-3c60-4886-dcca-dd1a43505945"
   },
   "outputs": [
    {
     "name": "stdout",
     "output_type": "stream",
     "text": [
      "hamming_loss: 0.41278040141676503\n",
      "\n",
      "\n",
      "\n",
      "              precision    recall  f1-score   support\n",
      "\n",
      "           0       0.37      0.57      0.45       143\n",
      "           1       0.52      0.63      0.57       206\n",
      "           2       0.56      0.60      0.58       201\n",
      "           3       0.50      0.64      0.57       180\n",
      "           4       0.42      0.61      0.50       152\n",
      "           5       0.33      0.54      0.41       124\n",
      "           6       0.24      0.53      0.33        90\n",
      "           7       0.26      0.59      0.36       102\n",
      "           8       0.09      0.50      0.15        40\n",
      "           9       0.16      0.66      0.26        56\n",
      "          10       0.17      0.61      0.27        70\n",
      "          11       0.77      0.56      0.65       369\n",
      "          12       0.80      0.56      0.66       364\n",
      "          13       0.02      0.33      0.04         9\n",
      "\n",
      "   micro avg       0.39      0.58      0.47      2106\n",
      "   macro avg       0.37      0.57      0.41      2106\n",
      "weighted avg       0.53      0.58      0.53      2106\n",
      " samples avg       0.41      0.59      0.46      2106\n",
      "\n"
     ]
    }
   ],
   "source": [
    "# Make a set of predictions for the training data\n",
    "y_pred = my_model_US_DT.predict(x_test)\n",
    "\n",
    "ham_loss = hamming_loss(y_test, y_pred)\n",
    "print(\"hamming_loss: \" +  str(ham_loss))\n",
    "\n",
    "print(\"\\n\\n\")\n",
    "print(metrics.classification_report(y_test, y_pred))"
   ]
  },
  {
   "cell_type": "code",
   "execution_count": 0,
   "metadata": {
    "colab": {},
    "colab_type": "code",
    "id": "zDruPqRv1olC"
   },
   "outputs": [],
   "source": [
    "binaryRelevanceWithUndersamplingList.append(round(ham_loss,3))"
   ]
  },
  {
   "cell_type": "code",
   "execution_count": 32,
   "metadata": {
    "colab": {
     "base_uri": "https://localhost:8080/",
     "height": 277
    },
    "colab_type": "code",
    "id": "4C5vDwtC1olF",
    "outputId": "be750e1b-1c8e-4d24-a43b-318c7472522a"
   },
   "outputs": [
    {
     "data": {
      "text/plain": [
       "array([[[1., 0., 1., ..., 1., 1., 1.],\n",
       "        [1., 1., 0., ..., 0., 1., 0.],\n",
       "        [1., 0., 0., ..., 1., 0., 1.],\n",
       "        ...,\n",
       "        [1., 0., 1., ..., 1., 1., 1.],\n",
       "        [1., 1., 1., ..., 0., 0., 0.],\n",
       "        [1., 0., 1., ..., 1., 1., 1.]],\n",
       "\n",
       "       [[0., 1., 0., ..., 0., 0., 0.],\n",
       "        [0., 0., 1., ..., 1., 0., 1.],\n",
       "        [0., 1., 1., ..., 0., 1., 0.],\n",
       "        ...,\n",
       "        [0., 1., 0., ..., 0., 0., 0.],\n",
       "        [0., 0., 0., ..., 1., 1., 1.],\n",
       "        [0., 1., 0., ..., 0., 0., 0.]]])"
      ]
     },
     "execution_count": 32,
     "metadata": {
      "tags": []
     },
     "output_type": "execute_result"
    }
   ],
   "source": [
    "y_pred_prob = my_model_US_DT.predict_proba(x_test)\n",
    "y_pred_prob"
   ]
  },
  {
   "cell_type": "markdown",
   "metadata": {
    "colab_type": "text",
    "id": "O3gyix4N1olK"
   },
   "source": [
    "### Classifier 3 : Random Forest"
   ]
  },
  {
   "cell_type": "code",
   "execution_count": 33,
   "metadata": {
    "colab": {
     "base_uri": "https://localhost:8080/",
     "height": 364
    },
    "colab_type": "code",
    "id": "fFj4PsKw1olL",
    "outputId": "470676a8-e262-49d1-df77-76e8f42e2b4c"
   },
   "outputs": [
    {
     "data": {
      "text/plain": [
       "BinaryRelevanceAlgWithUnderSampling(PredictClassifier=RandomForestClassifier(bootstrap=True,\n",
       "                                                                             ccp_alpha=0.0,\n",
       "                                                                             class_weight=None,\n",
       "                                                                             criterion='gini',\n",
       "                                                                             max_depth=None,\n",
       "                                                                             max_features=3,\n",
       "                                                                             max_leaf_nodes=None,\n",
       "                                                                             max_samples=None,\n",
       "                                                                             min_impurity_decrease=0.0,\n",
       "                                                                             min_impurity_split=None,\n",
       "                                                                             min_samples_leaf=1,\n",
       "                                                                             min_samples_split=200,\n",
       "                                                                             min_weight_fraction_leaf=0.0,\n",
       "                                                                             n_estimators=300,\n",
       "                                                                             n_jobs=None,\n",
       "                                                                             oob_score=False,\n",
       "                                                                             random_state=None,\n",
       "                                                                             verbose=0,\n",
       "                                                                             warm_start=False),\n",
       "                                    underSampling=True)"
      ]
     },
     "execution_count": 33,
     "metadata": {
      "tags": []
     },
     "output_type": "execute_result"
    }
   ],
   "source": [
    "my_model_US_RF = BinaryRelevanceAlgWithUnderSampling(ensemble.RandomForestClassifier(n_estimators=300, max_features = 3, min_samples_split=200),True)\n",
    "my_model_US_RF.fit(X_train, y_train)"
   ]
  },
  {
   "cell_type": "code",
   "execution_count": 34,
   "metadata": {
    "colab": {
     "base_uri": "https://localhost:8080/",
     "height": 468
    },
    "colab_type": "code",
    "id": "dU77n69d1olO",
    "outputId": "d744474e-b559-4040-9b09-1778771d876e"
   },
   "outputs": [
    {
     "name": "stdout",
     "output_type": "stream",
     "text": [
      "hamming_loss: 0.43845926800472257\n",
      "\n",
      "\n",
      "\n",
      "              precision    recall  f1-score   support\n",
      "\n",
      "           0       0.49      0.66      0.56       143\n",
      "           1       0.54      0.71      0.61       206\n",
      "           2       0.65      0.77      0.70       201\n",
      "           3       0.65      0.66      0.65       180\n",
      "           4       0.55      0.59      0.57       152\n",
      "           5       0.38      0.58      0.46       124\n",
      "           6       0.27      0.60      0.37        90\n",
      "           7       0.33      0.62      0.43       102\n",
      "           8       0.08      1.00      0.15        40\n",
      "           9       0.17      0.77      0.28        56\n",
      "          10       0.23      0.71      0.34        70\n",
      "          11       0.85      0.57      0.68       369\n",
      "          12       0.82      0.56      0.67       364\n",
      "          13       0.02      1.00      0.04         9\n",
      "\n",
      "   micro avg       0.38      0.64      0.48      2106\n",
      "   macro avg       0.43      0.70      0.47      2106\n",
      "weighted avg       0.60      0.64      0.58      2106\n",
      " samples avg       0.38      0.65      0.46      2106\n",
      "\n"
     ]
    }
   ],
   "source": [
    "# Make a set of predictions for the training data\n",
    "y_pred = my_model_US_RF.predict(x_test)\n",
    "\n",
    "ham_loss = hamming_loss(y_test, y_pred)\n",
    "print(\"hamming_loss: \" +  str(ham_loss))\n",
    "\n",
    "print(\"\\n\\n\")\n",
    "print(metrics.classification_report(y_test, y_pred))"
   ]
  },
  {
   "cell_type": "code",
   "execution_count": 0,
   "metadata": {
    "colab": {},
    "colab_type": "code",
    "id": "LpARYGaW1olQ"
   },
   "outputs": [],
   "source": [
    "binaryRelevanceWithUndersamplingList.append(round(ham_loss,3))"
   ]
  },
  {
   "cell_type": "code",
   "execution_count": 36,
   "metadata": {
    "colab": {
     "base_uri": "https://localhost:8080/",
     "height": 485
    },
    "colab_type": "code",
    "id": "Q9VoBkg51olS",
    "outputId": "7a00a37a-efb0-4d34-e0f5-e598e1575433"
   },
   "outputs": [
    {
     "data": {
      "text/plain": [
       "array([[[0.56521496, 0.53412908, 0.50556253, ..., 0.45329994,\n",
       "         0.4603608 , 0.4978    ],\n",
       "        [0.52320077, 0.4103086 , 0.44185928, ..., 0.4975778 ,\n",
       "         0.51455576, 0.4978    ],\n",
       "        [0.5226242 , 0.50502037, 0.50838255, ..., 0.43101106,\n",
       "         0.43678729, 0.4978    ],\n",
       "        ...,\n",
       "        [0.37723562, 0.45171641, 0.59443111, ..., 0.54682142,\n",
       "         0.57588881, 0.4978    ],\n",
       "        [0.52782638, 0.48998022, 0.50500209, ..., 0.49781747,\n",
       "         0.49130303, 0.4978    ],\n",
       "        [0.5771484 , 0.46729177, 0.36747013, ..., 0.58814761,\n",
       "         0.53702826, 0.4978    ]],\n",
       "\n",
       "       [[0.43478504, 0.46587092, 0.49443747, ..., 0.54670006,\n",
       "         0.5396392 , 0.5022    ],\n",
       "        [0.47679923, 0.5896914 , 0.55814072, ..., 0.5024222 ,\n",
       "         0.48544424, 0.5022    ],\n",
       "        [0.4773758 , 0.49497963, 0.49161745, ..., 0.56898894,\n",
       "         0.56321271, 0.5022    ],\n",
       "        ...,\n",
       "        [0.62276438, 0.54828359, 0.40556889, ..., 0.45317858,\n",
       "         0.42411119, 0.5022    ],\n",
       "        [0.47217362, 0.51001978, 0.49499791, ..., 0.50218253,\n",
       "         0.50869697, 0.5022    ],\n",
       "        [0.4228516 , 0.53270823, 0.63252987, ..., 0.41185239,\n",
       "         0.46297174, 0.5022    ]]])"
      ]
     },
     "execution_count": 36,
     "metadata": {
      "tags": []
     },
     "output_type": "execute_result"
    }
   ],
   "source": [
    "y_pred_prob = my_model_US_RF.predict_proba(x_test)\n",
    "y_pred_prob"
   ]
  },
  {
   "cell_type": "markdown",
   "metadata": {
    "colab_type": "text",
    "id": "qSM8ATx71olV"
   },
   "source": [
    "### Classifier 4 : Logistic Regression"
   ]
  },
  {
   "cell_type": "code",
   "execution_count": 37,
   "metadata": {
    "colab": {
     "base_uri": "https://localhost:8080/",
     "height": 295
    },
    "colab_type": "code",
    "id": "4Yeap2Wp1olW",
    "outputId": "aa8e45ab-35fd-4884-85d6-1001df5a0da8"
   },
   "outputs": [
    {
     "data": {
      "text/plain": [
       "BinaryRelevanceAlgWithUnderSampling(PredictClassifier=LogisticRegression(C=1.0,\n",
       "                                                                         class_weight=None,\n",
       "                                                                         dual=False,\n",
       "                                                                         fit_intercept=True,\n",
       "                                                                         intercept_scaling=1,\n",
       "                                                                         l1_ratio=None,\n",
       "                                                                         max_iter=100,\n",
       "                                                                         multi_class='auto',\n",
       "                                                                         n_jobs=None,\n",
       "                                                                         penalty='l2',\n",
       "                                                                         random_state=None,\n",
       "                                                                         solver='lbfgs',\n",
       "                                                                         tol=0.0001,\n",
       "                                                                         verbose=0,\n",
       "                                                                         warm_start=False),\n",
       "                                    underSampling=True)"
      ]
     },
     "execution_count": 37,
     "metadata": {
      "tags": []
     },
     "output_type": "execute_result"
    }
   ],
   "source": [
    "my_model_US_LR = BinaryRelevanceAlgWithUnderSampling(linear_model.LogisticRegression(),True)\n",
    "my_model_US_LR.fit(X_train, y_train)"
   ]
  },
  {
   "cell_type": "code",
   "execution_count": 38,
   "metadata": {
    "colab": {
     "base_uri": "https://localhost:8080/",
     "height": 468
    },
    "colab_type": "code",
    "id": "aE6L8ukH1ola",
    "outputId": "6378cc78-a5ed-43e4-c648-44e6f3d22d40"
   },
   "outputs": [
    {
     "name": "stdout",
     "output_type": "stream",
     "text": [
      "hamming_loss: 0.36038961038961037\n",
      "\n",
      "\n",
      "\n",
      "              precision    recall  f1-score   support\n",
      "\n",
      "           0       0.53      0.66      0.59       143\n",
      "           1       0.54      0.66      0.59       206\n",
      "           2       0.66      0.77      0.71       201\n",
      "           3       0.59      0.71      0.65       180\n",
      "           4       0.50      0.62      0.55       152\n",
      "           5       0.39      0.62      0.48       124\n",
      "           6       0.26      0.62      0.37        90\n",
      "           7       0.25      0.55      0.35       102\n",
      "           8       0.11      0.57      0.19        40\n",
      "           9       0.19      0.70      0.30        56\n",
      "          10       0.20      0.60      0.30        70\n",
      "          11       0.84      0.55      0.67       369\n",
      "          12       0.83      0.56      0.67       364\n",
      "          13       0.03      0.56      0.06         9\n",
      "\n",
      "   micro avg       0.44      0.62      0.52      2106\n",
      "   macro avg       0.42      0.63      0.46      2106\n",
      "weighted avg       0.59      0.62      0.58      2106\n",
      " samples avg       0.46      0.63      0.51      2106\n",
      "\n"
     ]
    }
   ],
   "source": [
    "# Make a set of predictions for the training data\n",
    "y_pred = my_model_US_LR.predict(x_test)\n",
    "\n",
    "ham_loss = hamming_loss(y_test, y_pred)\n",
    "print(\"hamming_loss: \" +  str(ham_loss))\n",
    "\n",
    "print(\"\\n\\n\")\n",
    "print(metrics.classification_report(y_test, y_pred))"
   ]
  },
  {
   "cell_type": "code",
   "execution_count": 0,
   "metadata": {
    "colab": {},
    "colab_type": "code",
    "id": "43MavKXS1old"
   },
   "outputs": [],
   "source": [
    "binaryRelevanceWithUndersamplingList.append(round(ham_loss,3))"
   ]
  },
  {
   "cell_type": "code",
   "execution_count": 40,
   "metadata": {
    "colab": {
     "base_uri": "https://localhost:8080/",
     "height": 485
    },
    "colab_type": "code",
    "id": "O_rQA54B1olf",
    "outputId": "80dbaefb-3a74-4d0f-c444-7922ba16828f"
   },
   "outputs": [
    {
     "data": {
      "text/plain": [
       "array([[[0.68964122, 0.76797283, 0.61232977, ..., 0.4514248 ,\n",
       "         0.4469043 , 0.49815549],\n",
       "        [0.60223981, 0.48236878, 0.28689987, ..., 0.61600276,\n",
       "         0.67164209, 0.48057672],\n",
       "        [0.63637805, 0.35085557, 0.45870198, ..., 0.31203222,\n",
       "         0.40115888, 0.6272534 ],\n",
       "        ...,\n",
       "        [0.18973715, 0.27232406, 0.66247796, ..., 0.5476897 ,\n",
       "         0.63257763, 0.67372514],\n",
       "        [0.74921949, 0.56659706, 0.37983968, ..., 0.53718317,\n",
       "         0.45701152, 0.58643042],\n",
       "        [0.60748455, 0.4142099 , 0.16524912, ..., 0.73048552,\n",
       "         0.53708431, 0.53239373]],\n",
       "\n",
       "       [[0.31035878, 0.23202717, 0.38767023, ..., 0.5485752 ,\n",
       "         0.5530957 , 0.50184451],\n",
       "        [0.39776019, 0.51763122, 0.71310013, ..., 0.38399724,\n",
       "         0.32835791, 0.51942328],\n",
       "        [0.36362195, 0.64914443, 0.54129802, ..., 0.68796778,\n",
       "         0.59884112, 0.3727466 ],\n",
       "        ...,\n",
       "        [0.81026285, 0.72767594, 0.33752204, ..., 0.4523103 ,\n",
       "         0.36742237, 0.32627486],\n",
       "        [0.25078051, 0.43340294, 0.62016032, ..., 0.46281683,\n",
       "         0.54298848, 0.41356958],\n",
       "        [0.39251545, 0.5857901 , 0.83475088, ..., 0.26951448,\n",
       "         0.46291569, 0.46760627]]])"
      ]
     },
     "execution_count": 40,
     "metadata": {
      "tags": []
     },
     "output_type": "execute_result"
    }
   ],
   "source": [
    "y_pred_prob = my_model_US_LR.predict_proba(x_test)\n",
    "y_pred_prob"
   ]
  },
  {
   "cell_type": "markdown",
   "metadata": {
    "colab_type": "text",
    "id": "AwJMtDoL1oli"
   },
   "source": [
    "## Task 3: Compare the Performance of Different Binary Relevance Approaches"
   ]
  },
  {
   "cell_type": "code",
   "execution_count": 0,
   "metadata": {
    "colab": {},
    "colab_type": "code",
    "id": "aJToDVFr1oli"
   },
   "outputs": [],
   "source": [
    "cv_folds=10"
   ]
  },
  {
   "cell_type": "markdown",
   "metadata": {
    "colab_type": "text",
    "id": "i-NA3r-H1olk"
   },
   "source": [
    "#### Binary Relevance Algorithm with Undersampling"
   ]
  },
  {
   "cell_type": "code",
   "execution_count": 42,
   "metadata": {
    "colab": {
     "base_uri": "https://localhost:8080/",
     "height": 0
    },
    "colab_type": "code",
    "id": "rV4FipDA1olk",
    "outputId": "025985e8-2bbd-4ba1-f432-8a49744188fe"
   },
   "outputs": [
    {
     "name": "stdout",
     "output_type": "stream",
     "text": [
      "[0.2757732  0.29381443 0.31369661 0.30014804 0.30792006 0.27942265\n",
      " 0.31828275 0.32050333 0.28793486 0.31791266]\n"
     ]
    }
   ],
   "source": [
    "my_model_BR_US = BinaryRelevanceAlgWithUnderSampling()\n",
    "#Calculating Cross-Validation Scores\n",
    "scores = cross_val_score(my_model_BR_US, X_train, y_train, cv=cv_folds, n_jobs=-1,scoring = make_scorer(hamming_loss))\n",
    "print(scores)"
   ]
  },
  {
   "cell_type": "code",
   "execution_count": 43,
   "metadata": {
    "colab": {
     "base_uri": "https://localhost:8080/",
     "height": 0
    },
    "colab_type": "code",
    "id": "hZfxgzPY1oln",
    "outputId": "37bb9b10-fb00-4e39-edc3-e14da94ecc44"
   },
   "outputs": [
    {
     "name": "stdout",
     "output_type": "stream",
     "text": [
      "Best parameters set found on development set:\n"
     ]
    },
    {
     "data": {
      "text/plain": [
       "{'PredictClassifier': LogisticRegression(C=1.0, class_weight=None, dual=False, fit_intercept=True,\n",
       "                    intercept_scaling=1, l1_ratio=None, max_iter=100,\n",
       "                    multi_class='auto', n_jobs=None, penalty='l2',\n",
       "                    random_state=None, solver='lbfgs', tol=0.0001, verbose=0,\n",
       "                    warm_start=False), 'underSampling': False}"
      ]
     },
     "metadata": {
      "tags": []
     },
     "output_type": "display_data"
    },
    {
     "data": {
      "text/plain": [
       "-0.20364436184077517"
      ]
     },
     "metadata": {
      "tags": []
     },
     "output_type": "display_data"
    }
   ],
   "source": [
    "# Set up the parameter grid to seaerch\n",
    "param_grid = {'PredictClassifier': [GaussianNB(), tree.DecisionTreeClassifier(criterion=\"entropy\") ,\\\n",
    "                                   ensemble.RandomForestClassifier(n_estimators=300, max_features = 3, min_samples_split=200), \\\n",
    "                                   linear_model.LogisticRegression()],\\\n",
    "               'underSampling':[True,False]}\n",
    "\n",
    "# Perform the search\n",
    "my_tuned_tree_BR_US = GridSearchCV(BinaryRelevanceAlgWithUnderSampling(), \\\n",
    "                                param_grid, cv=2, verbose = 0, \\\n",
    "                            return_train_score=True,scoring = make_scorer(hamming_loss,greater_is_better=False))\n",
    "my_tuned_tree_BR_US.fit(X_train, y_train)\n",
    "\n",
    "# Print details\n",
    "print(\"Best parameters set found on development set:\")\n",
    "display(my_tuned_tree_BR_US.best_params_)\n",
    "display(my_tuned_tree_BR_US.best_score_)\n",
    "# display(my_tuned_tree_BR_US.cv_results_)"
   ]
  },
  {
   "cell_type": "markdown",
   "metadata": {
    "colab_type": "text",
    "id": "RotIKN4D1olq"
   },
   "source": [
    "#### Binary Relevance Algorithm"
   ]
  },
  {
   "cell_type": "code",
   "execution_count": 44,
   "metadata": {
    "colab": {
     "base_uri": "https://localhost:8080/",
     "height": 0
    },
    "colab_type": "code",
    "id": "JiOR-I8j1olr",
    "outputId": "9e1ac7fb-0723-4254-f305-5e852ca082a9"
   },
   "outputs": [
    {
     "name": "stdout",
     "output_type": "stream",
     "text": [
      "[0.2757732  0.29381443 0.31369661 0.30014804 0.30792006 0.27942265\n",
      " 0.31828275 0.32050333 0.28793486 0.31791266]\n"
     ]
    }
   ],
   "source": [
    "my_model_BR = BinaryRelevanceAlg()\n",
    "#Calculating Cross-Validation Scores\n",
    "scores = cross_val_score(my_model_BR, X_train, y_train, cv=cv_folds, n_jobs=-1,scoring = make_scorer(hamming_loss))\n",
    "print(scores)"
   ]
  },
  {
   "cell_type": "code",
   "execution_count": 45,
   "metadata": {
    "colab": {
     "base_uri": "https://localhost:8080/",
     "height": 0
    },
    "colab_type": "code",
    "id": "WEoUw4Wu1olt",
    "outputId": "76a1b6c3-8525-4861-fc94-00109d591e3b"
   },
   "outputs": [
    {
     "name": "stdout",
     "output_type": "stream",
     "text": [
      "Best parameters set found on development set:\n"
     ]
    },
    {
     "data": {
      "text/plain": [
       "{'PredictClassifier': LogisticRegression(C=1.0, class_weight=None, dual=False, fit_intercept=True,\n",
       "                    intercept_scaling=1, l1_ratio=None, max_iter=100,\n",
       "                    multi_class='auto', n_jobs=None, penalty='l2',\n",
       "                    random_state=None, solver='lbfgs', tol=0.0001, verbose=0,\n",
       "                    warm_start=False)}"
      ]
     },
     "metadata": {
      "tags": []
     },
     "output_type": "display_data"
    },
    {
     "data": {
      "text/plain": [
       "-0.20364436184077517"
      ]
     },
     "metadata": {
      "tags": []
     },
     "output_type": "display_data"
    }
   ],
   "source": [
    "# Set up the parameter grid to seaerch\n",
    "param_grid = {'PredictClassifier': [GaussianNB(), tree.DecisionTreeClassifier(criterion=\"entropy\") ,\\\n",
    "                                   ensemble.RandomForestClassifier(n_estimators=300, max_features = 3, min_samples_split=200), \\\n",
    "                                   linear_model.LogisticRegression()]}\n",
    "\n",
    "# Perform the search\n",
    "my_tuned_tree_BR = GridSearchCV(BinaryRelevanceAlg(), \\\n",
    "                                param_grid, cv=2, verbose = 0, \\\n",
    "                            return_train_score=True,scoring = make_scorer(hamming_loss,greater_is_better=False))\n",
    "my_tuned_tree_BR.fit(X_train, y_train)\n",
    "\n",
    "# Print details\n",
    "print(\"Best parameters set found on development set:\")\n",
    "display(my_tuned_tree_BR.best_params_)\n",
    "display(my_tuned_tree_BR.best_score_)\n",
    "# display(my_tuned_tree_BR.cv_results_)"
   ]
  },
  {
   "cell_type": "markdown",
   "metadata": {
    "colab_type": "text",
    "id": "SrJzPqBt1olv"
   },
   "source": [
    "## Task 4: Implement the Classifier Chains Algorithm"
   ]
  },
  {
   "cell_type": "code",
   "execution_count": 0,
   "metadata": {
    "colab": {},
    "colab_type": "code",
    "id": "XMaF8VWf1olw"
   },
   "outputs": [],
   "source": [
    "class ClassifierChainsAlg(BaseEstimator, ClassifierMixin):\n",
    "    \n",
    "    # Constructor for the classifier object\n",
    "    def __init__(self, PredictClassifier=GaussianNB(),underSampling=False):\n",
    "        self.PredictClassifier = PredictClassifier\n",
    "        self.underSampling = underSampling\n",
    "\n",
    "    # The fit function to train a classifier\n",
    "    def fit(self, X, y):\n",
    "        \n",
    "        models = []\n",
    "        \n",
    "        #For each label in the data set training a model of the given classifier on all the features \n",
    "        #and storing all individual models in a list.\n",
    "        for i in range(len(y.columns)):\n",
    "            #combining all the previous labels to the feature set\n",
    "            x_new = X.join(y.iloc[:,:i])\n",
    "            y_new = y.iloc[:,i]\n",
    "            x_new,y_new = check_X_y(x_new, y_new)\n",
    "            x_resampled = x_new\n",
    "            y_resampled = y_new\n",
    "            #performing undersampling\n",
    "            if self.underSampling == True:\n",
    "                cc = RandomUnderSampler(random_state=0)\n",
    "                x_resampled, y_resampled = cc.fit_resample(x_resampled, y_resampled)\n",
    "            model = copy.copy(self.PredictClassifier)\n",
    "            model.fit(x_resampled,y_resampled)\n",
    "            models.append(model)\n",
    "        \n",
    "        self.models_ = models\n",
    "        \n",
    "        # Return the classifier\n",
    "        return self\n",
    "\n",
    "    # The predict function to make a set of predictions for a set of query instances\n",
    "    def predict(self, X):\n",
    "\n",
    "        # Check that the input features match the type and shape of the training features\n",
    "        x_new = check_array(X)\n",
    "        \n",
    "        predictions = list()\n",
    "        \n",
    "        #loop thorugh all models in the list to make the predictions for each label\n",
    "        for model in self.models_:\n",
    "            predict = model.predict(x_new)\n",
    "            predictions.append(predict)\n",
    "            x_new = np.concatenate((x_new,predict[:,None]),axis=1)\n",
    "        return np.array(predictions).T\n",
    "    \n",
    "    \n",
    "    # The predict function to make a set of predictions for a set of query instances\n",
    "    def predict_proba(self, X):\n",
    "\n",
    "        # Check that the input features match the type and shape of the training features\n",
    "        x_new = check_array(X)\n",
    "        \n",
    "         # Initialise an empty list to store the predictions made\n",
    "        predict_proba_list = list()\n",
    "        \n",
    "        #loop thorugh all models in the list to make the predictions and probabilities for each label\n",
    "        for model in self.models_:\n",
    "            predict_pro = model.predict_proba(x_new)\n",
    "            predict_proba_list.append(predict_pro)\n",
    "            #Getting the predict to join and make the features for next predict proba\n",
    "            predict = model.predict(x_new)\n",
    "            x_new = np.concatenate((x_new,predict[:,None]),axis=1)\n",
    "            \n",
    "        return np.array(predict_proba_list).T"
   ]
  },
  {
   "cell_type": "markdown",
   "metadata": {
    "colab_type": "text",
    "id": "X0ebQr231olz"
   },
   "source": [
    "## Evaluation of Classifier Chains Alogrithm"
   ]
  },
  {
   "cell_type": "markdown",
   "metadata": {
    "colab_type": "text",
    "id": "ff32ssUQ1ol0"
   },
   "source": [
    "### Classifier 1 : Naive Bayes"
   ]
  },
  {
   "cell_type": "code",
   "execution_count": 47,
   "metadata": {
    "colab": {
     "base_uri": "https://localhost:8080/",
     "height": 69
    },
    "colab_type": "code",
    "id": "tFy0RazN1ol0",
    "outputId": "d471589e-539a-46a5-871e-183375cd573f"
   },
   "outputs": [
    {
     "data": {
      "text/plain": [
       "ClassifierChainsAlg(PredictClassifier=GaussianNB(priors=None,\n",
       "                                                 var_smoothing=1e-09),\n",
       "                    underSampling=False)"
      ]
     },
     "execution_count": 47,
     "metadata": {
      "tags": []
     },
     "output_type": "execute_result"
    }
   ],
   "source": [
    "my_model_CC_NB = ClassifierChainsAlg(GaussianNB())\n",
    "my_model_CC_NB.fit(X_train, y_train)"
   ]
  },
  {
   "cell_type": "code",
   "execution_count": 48,
   "metadata": {
    "colab": {
     "base_uri": "https://localhost:8080/",
     "height": 468
    },
    "colab_type": "code",
    "id": "20Wn-jnI1ol2",
    "outputId": "8fdcd9cd-c0a5-4510-d3ea-e697cd0eef6e"
   },
   "outputs": [
    {
     "name": "stdout",
     "output_type": "stream",
     "text": [
      "hamming_loss: 0.313754427390791\n",
      "\n",
      "\n",
      "\n",
      "              precision    recall  f1-score   support\n",
      "\n",
      "           0       0.56      0.65      0.60       143\n",
      "           1       0.52      0.67      0.58       206\n",
      "           2       0.66      0.75      0.70       201\n",
      "           3       0.60      0.61      0.60       180\n",
      "           4       0.58      0.50      0.54       152\n",
      "           5       0.43      0.44      0.43       124\n",
      "           6       0.30      0.43      0.35        90\n",
      "           7       0.31      0.40      0.35       102\n",
      "           8       0.08      0.23      0.12        40\n",
      "           9       0.18      0.52      0.27        56\n",
      "          10       0.20      0.50      0.28        70\n",
      "          11       0.82      0.56      0.66       369\n",
      "          12       0.81      0.56      0.66       364\n",
      "          13       0.05      0.44      0.08         9\n",
      "\n",
      "   micro avg       0.50      0.56      0.53      2106\n",
      "   macro avg       0.44      0.52      0.45      2106\n",
      "weighted avg       0.59      0.56      0.56      2106\n",
      " samples avg       0.51      0.57      0.52      2106\n",
      "\n"
     ]
    }
   ],
   "source": [
    "# Make a set of predictions for the training data\n",
    "y_pred = my_model_CC_NB.predict(x_test)\n",
    "\n",
    "ham_loss = hamming_loss(y_test, y_pred)\n",
    "print(\"hamming_loss: \" +  str(ham_loss))\n",
    "\n",
    "print(\"\\n\\n\")\n",
    "print(metrics.classification_report(y_test, y_pred))"
   ]
  },
  {
   "cell_type": "code",
   "execution_count": 0,
   "metadata": {
    "colab": {},
    "colab_type": "code",
    "id": "K19AvshC1ol4"
   },
   "outputs": [],
   "source": [
    "chainClassificationList.append(round(ham_loss,3))"
   ]
  },
  {
   "cell_type": "code",
   "execution_count": 50,
   "metadata": {
    "colab": {
     "base_uri": "https://localhost:8080/",
     "height": 485
    },
    "colab_type": "code",
    "id": "pyO-zi0r1ol6",
    "outputId": "25fb6f33-b0c6-4ff5-d43d-8aa0b35028ca"
   },
   "outputs": [
    {
     "data": {
      "text/plain": [
       "array([[[9.96639774e-01, 9.88868868e-01, 5.21347190e-01, ...,\n",
       "         7.62460356e-04, 7.43449217e-17, 1.00000000e+00],\n",
       "        [1.07392885e-01, 8.03480717e-06, 6.84791728e-02, ...,\n",
       "         9.99274068e-01, 1.00000000e+00, 1.00000000e+00],\n",
       "        [9.87501495e-01, 9.25354954e-01, 1.28948047e-01, ...,\n",
       "         1.48882502e-03, 2.48561143e-16, 2.41401803e-20],\n",
       "        ...,\n",
       "        [2.12813779e-07, 2.15023164e-04, 9.99976459e-01, ...,\n",
       "         9.99901356e-01, 1.00000000e+00, 1.00000000e+00],\n",
       "        [1.12346569e-01, 2.51405080e-03, 8.78496524e-01, ...,\n",
       "         5.95079447e-01, 1.00000000e+00, 1.00000000e+00],\n",
       "        [9.92305132e-01, 8.68962424e-03, 1.23264422e-05, ...,\n",
       "         9.81606660e-01, 1.00000000e+00, 1.00000000e+00]],\n",
       "\n",
       "       [[3.36022634e-03, 1.11311317e-02, 4.78652810e-01, ...,\n",
       "         9.99237540e-01, 1.00000000e+00, 0.00000000e+00],\n",
       "        [8.92607115e-01, 9.99991965e-01, 9.31520827e-01, ...,\n",
       "         7.25932295e-04, 0.00000000e+00, 0.00000000e+00],\n",
       "        [1.24985049e-02, 7.46450465e-02, 8.71051953e-01, ...,\n",
       "         9.98511175e-01, 1.00000000e+00, 1.00000000e+00],\n",
       "        ...,\n",
       "        [9.99999787e-01, 9.99784977e-01, 2.35412661e-05, ...,\n",
       "         9.86438963e-05, 0.00000000e+00, 0.00000000e+00],\n",
       "        [8.87653431e-01, 9.97485949e-01, 1.21503476e-01, ...,\n",
       "         4.04920553e-01, 0.00000000e+00, 0.00000000e+00],\n",
       "        [7.69486818e-03, 9.91310376e-01, 9.99987674e-01, ...,\n",
       "         1.83933399e-02, 0.00000000e+00, 0.00000000e+00]]])"
      ]
     },
     "execution_count": 50,
     "metadata": {
      "tags": []
     },
     "output_type": "execute_result"
    }
   ],
   "source": [
    "y_pred_prob = my_model_CC_NB.predict_proba(x_test)\n",
    "y_pred_prob"
   ]
  },
  {
   "cell_type": "markdown",
   "metadata": {
    "colab_type": "text",
    "id": "h8l2XFRT1ol8"
   },
   "source": [
    "### Classifier 2 : Decision Tree"
   ]
  },
  {
   "cell_type": "code",
   "execution_count": 51,
   "metadata": {
    "colab": {
     "base_uri": "https://localhost:8080/",
     "height": 277
    },
    "colab_type": "code",
    "id": "ki6qoiEO1ol8",
    "outputId": "de1116df-539f-4b8e-9e2b-49e50412923b"
   },
   "outputs": [
    {
     "data": {
      "text/plain": [
       "ClassifierChainsAlg(PredictClassifier=DecisionTreeClassifier(ccp_alpha=0.0,\n",
       "                                                             class_weight=None,\n",
       "                                                             criterion='entropy',\n",
       "                                                             max_depth=None,\n",
       "                                                             max_features=None,\n",
       "                                                             max_leaf_nodes=None,\n",
       "                                                             min_impurity_decrease=0.0,\n",
       "                                                             min_impurity_split=None,\n",
       "                                                             min_samples_leaf=1,\n",
       "                                                             min_samples_split=2,\n",
       "                                                             min_weight_fraction_leaf=0.0,\n",
       "                                                             presort='deprecated',\n",
       "                                                             random_state=None,\n",
       "                                                             splitter='best'),\n",
       "                    underSampling=False)"
      ]
     },
     "execution_count": 51,
     "metadata": {
      "tags": []
     },
     "output_type": "execute_result"
    }
   ],
   "source": [
    "my_model_CC_DT = ClassifierChainsAlg(tree.DecisionTreeClassifier(criterion=\"entropy\"))\n",
    "my_model_CC_DT.fit(X_train, y_train)"
   ]
  },
  {
   "cell_type": "code",
   "execution_count": 52,
   "metadata": {
    "colab": {
     "base_uri": "https://localhost:8080/",
     "height": 468
    },
    "colab_type": "code",
    "id": "D2YkYaHX1ol-",
    "outputId": "73ae9f04-a607-47ef-bdae-e6a25fbe98bf"
   },
   "outputs": [
    {
     "name": "stdout",
     "output_type": "stream",
     "text": [
      "hamming_loss: 0.269185360094451\n",
      "\n",
      "\n",
      "\n",
      "              precision    recall  f1-score   support\n",
      "\n",
      "           0       0.51      0.55      0.53       143\n",
      "           1       0.50      0.50      0.50       206\n",
      "           2       0.58      0.53      0.55       201\n",
      "           3       0.51      0.47      0.49       180\n",
      "           4       0.53      0.47      0.50       152\n",
      "           5       0.42      0.40      0.41       124\n",
      "           6       0.43      0.44      0.44        90\n",
      "           7       0.36      0.36      0.36       102\n",
      "           8       0.18      0.17      0.18        40\n",
      "           9       0.14      0.14      0.14        56\n",
      "          10       0.15      0.14      0.15        70\n",
      "          11       0.79      0.78      0.79       369\n",
      "          12       0.79      0.78      0.78       364\n",
      "          13       0.00      0.00      0.00         9\n",
      "\n",
      "   micro avg       0.57      0.55      0.56      2106\n",
      "   macro avg       0.42      0.41      0.41      2106\n",
      "weighted avg       0.57      0.55      0.56      2106\n",
      " samples avg       0.57      0.56      0.53      2106\n",
      "\n"
     ]
    }
   ],
   "source": [
    "# Make a set of predictions for the training data\n",
    "y_pred = my_model_CC_DT.predict(x_test)\n",
    "\n",
    "ham_loss = hamming_loss(y_test, y_pred)\n",
    "print(\"hamming_loss: \" +  str(ham_loss))\n",
    "\n",
    "print(\"\\n\\n\")\n",
    "print(metrics.classification_report(y_test, y_pred))"
   ]
  },
  {
   "cell_type": "code",
   "execution_count": 0,
   "metadata": {
    "colab": {},
    "colab_type": "code",
    "id": "-8g9eaAb1omA"
   },
   "outputs": [],
   "source": [
    "chainClassificationList.append(round(ham_loss,3))"
   ]
  },
  {
   "cell_type": "code",
   "execution_count": 54,
   "metadata": {
    "colab": {
     "base_uri": "https://localhost:8080/",
     "height": 277
    },
    "colab_type": "code",
    "id": "cyf771fm1omD",
    "outputId": "7656580c-c2ef-47be-c891-df04b85241b3"
   },
   "outputs": [
    {
     "data": {
      "text/plain": [
       "array([[[1., 0., 0., ..., 0., 0., 1.],\n",
       "        [1., 0., 0., ..., 0., 0., 1.],\n",
       "        [1., 1., 1., ..., 0., 0., 1.],\n",
       "        ...,\n",
       "        [0., 0., 1., ..., 1., 1., 1.],\n",
       "        [1., 1., 0., ..., 0., 0., 1.],\n",
       "        [1., 1., 0., ..., 0., 0., 1.]],\n",
       "\n",
       "       [[0., 1., 1., ..., 1., 1., 0.],\n",
       "        [0., 1., 1., ..., 1., 1., 0.],\n",
       "        [0., 0., 0., ..., 1., 1., 0.],\n",
       "        ...,\n",
       "        [1., 1., 0., ..., 0., 0., 0.],\n",
       "        [0., 0., 1., ..., 1., 1., 0.],\n",
       "        [0., 0., 1., ..., 1., 1., 0.]]])"
      ]
     },
     "execution_count": 54,
     "metadata": {
      "tags": []
     },
     "output_type": "execute_result"
    }
   ],
   "source": [
    "y_pred_prob = my_model_CC_DT.predict_proba(x_test)\n",
    "y_pred_prob"
   ]
  },
  {
   "cell_type": "markdown",
   "metadata": {
    "colab_type": "text",
    "id": "41qqmkN_1omG"
   },
   "source": [
    "### Classifier 3 : Random Forest"
   ]
  },
  {
   "cell_type": "code",
   "execution_count": 55,
   "metadata": {
    "colab": {
     "base_uri": "https://localhost:8080/",
     "height": 364
    },
    "colab_type": "code",
    "id": "b3ra2t_41omG",
    "outputId": "62ab008c-00a8-4792-da74-4557d3e4d393"
   },
   "outputs": [
    {
     "data": {
      "text/plain": [
       "ClassifierChainsAlg(PredictClassifier=RandomForestClassifier(bootstrap=True,\n",
       "                                                             ccp_alpha=0.0,\n",
       "                                                             class_weight=None,\n",
       "                                                             criterion='gini',\n",
       "                                                             max_depth=None,\n",
       "                                                             max_features=3,\n",
       "                                                             max_leaf_nodes=None,\n",
       "                                                             max_samples=None,\n",
       "                                                             min_impurity_decrease=0.0,\n",
       "                                                             min_impurity_split=None,\n",
       "                                                             min_samples_leaf=1,\n",
       "                                                             min_samples_split=200,\n",
       "                                                             min_weight_fraction_leaf=0.0,\n",
       "                                                             n_estimators=300,\n",
       "                                                             n_jobs=None,\n",
       "                                                             oob_score=False,\n",
       "                                                             random_state=None,\n",
       "                                                             verbose=0,\n",
       "                                                             warm_start=False),\n",
       "                    underSampling=False)"
      ]
     },
     "execution_count": 55,
     "metadata": {
      "tags": []
     },
     "output_type": "execute_result"
    }
   ],
   "source": [
    "my_model_CC_RF = ClassifierChainsAlg(ensemble.RandomForestClassifier(n_estimators=300, max_features = 3, min_samples_split=200))\n",
    "my_model_CC_RF.fit(X_train, y_train)"
   ]
  },
  {
   "cell_type": "code",
   "execution_count": 56,
   "metadata": {
    "colab": {
     "base_uri": "https://localhost:8080/",
     "height": 468
    },
    "colab_type": "code",
    "id": "XzkmjMW21omJ",
    "outputId": "ab97374b-4669-4c43-da9b-3dbb99e800d0"
   },
   "outputs": [
    {
     "name": "stdout",
     "output_type": "stream",
     "text": [
      "hamming_loss: 0.2139905548996458\n",
      "\n",
      "\n",
      "\n",
      "              precision    recall  f1-score   support\n",
      "\n",
      "           0       0.90      0.20      0.32       143\n",
      "           1       0.67      0.19      0.30       206\n",
      "           2       0.78      0.33      0.47       201\n",
      "           3       0.92      0.24      0.39       180\n",
      "           4       0.96      0.17      0.29       152\n",
      "           5       0.00      0.00      0.00       124\n",
      "           6       0.00      0.00      0.00        90\n",
      "           7       0.00      0.00      0.00       102\n",
      "           8       0.00      0.00      0.00        40\n",
      "           9       0.00      0.00      0.00        56\n",
      "          10       0.00      0.00      0.00        70\n",
      "          11       0.76      1.00      0.87       369\n",
      "          12       0.75      1.00      0.86       364\n",
      "          13       0.00      0.00      0.00         9\n",
      "\n",
      "   micro avg       0.77      0.44      0.56      2106\n",
      "   macro avg       0.41      0.22      0.25      2106\n",
      "weighted avg       0.61      0.44      0.45      2106\n",
      " samples avg       0.76      0.44      0.53      2106\n",
      "\n"
     ]
    }
   ],
   "source": [
    "# Make a set of predictions for the training data\n",
    "y_pred = my_model_CC_RF.predict(x_test)\n",
    "\n",
    "ham_loss = hamming_loss(y_test, y_pred)\n",
    "print(\"hamming_loss: \" +  str(ham_loss))\n",
    "\n",
    "print(\"\\n\\n\")\n",
    "print(metrics.classification_report(y_test, y_pred))"
   ]
  },
  {
   "cell_type": "code",
   "execution_count": 0,
   "metadata": {
    "colab": {},
    "colab_type": "code",
    "id": "wAvGKvep1omL"
   },
   "outputs": [],
   "source": [
    "chainClassificationList.append(round(ham_loss,3))"
   ]
  },
  {
   "cell_type": "code",
   "execution_count": 58,
   "metadata": {
    "colab": {
     "base_uri": "https://localhost:8080/",
     "height": 485
    },
    "colab_type": "code",
    "id": "JRUgx4SZ1omN",
    "outputId": "dac10b02-a716-4da3-de61-4a66ed352e8d"
   },
   "outputs": [
    {
     "data": {
      "text/plain": [
       "array([[[0.73221839, 0.63603555, 0.59942935, ..., 0.20980818,\n",
       "         0.20658134, 0.97398562],\n",
       "        [0.67436896, 0.52534026, 0.53646678, ..., 0.26578557,\n",
       "         0.23317412, 0.99190523],\n",
       "        [0.69210081, 0.57167589, 0.60096445, ..., 0.22405084,\n",
       "         0.20163845, 0.98950495],\n",
       "        ...,\n",
       "        [0.57439403, 0.54274   , 0.67382764, ..., 0.30980004,\n",
       "         0.26902397, 0.99158596],\n",
       "        [0.67512445, 0.58020792, 0.588319  , ..., 0.27297128,\n",
       "         0.2529769 , 0.98633246],\n",
       "        [0.75076085, 0.55221887, 0.46913726, ..., 0.28316998,\n",
       "         0.2429788 , 0.9895222 ]],\n",
       "\n",
       "       [[0.26778161, 0.36396445, 0.40057065, ..., 0.79019182,\n",
       "         0.79341866, 0.02601438],\n",
       "        [0.32563104, 0.47465974, 0.46353322, ..., 0.73421443,\n",
       "         0.76682588, 0.00809477],\n",
       "        [0.30789919, 0.42832411, 0.39903555, ..., 0.77594916,\n",
       "         0.79836155, 0.01049505],\n",
       "        ...,\n",
       "        [0.42560597, 0.45726   , 0.32617236, ..., 0.69019996,\n",
       "         0.73097603, 0.00841404],\n",
       "        [0.32487555, 0.41979208, 0.411681  , ..., 0.72702872,\n",
       "         0.7470231 , 0.01366754],\n",
       "        [0.24923915, 0.44778113, 0.53086274, ..., 0.71683002,\n",
       "         0.7570212 , 0.0104778 ]]])"
      ]
     },
     "execution_count": 58,
     "metadata": {
      "tags": []
     },
     "output_type": "execute_result"
    }
   ],
   "source": [
    "y_pred_prob = my_model_CC_RF.predict_proba(x_test)\n",
    "y_pred_prob"
   ]
  },
  {
   "cell_type": "markdown",
   "metadata": {
    "colab_type": "text",
    "id": "rkUJFtIW1omP"
   },
   "source": [
    "### Classifier 4 : Logistic Regression"
   ]
  },
  {
   "cell_type": "code",
   "execution_count": 59,
   "metadata": {
    "colab": {
     "base_uri": "https://localhost:8080/",
     "height": 277
    },
    "colab_type": "code",
    "id": "ZfoxQ7iN1omQ",
    "outputId": "e3a698d2-599a-454f-b207-a261e4338192"
   },
   "outputs": [
    {
     "data": {
      "text/plain": [
       "ClassifierChainsAlg(PredictClassifier=LogisticRegression(C=1.0,\n",
       "                                                         class_weight=None,\n",
       "                                                         dual=False,\n",
       "                                                         fit_intercept=True,\n",
       "                                                         intercept_scaling=1,\n",
       "                                                         l1_ratio=None,\n",
       "                                                         max_iter=100,\n",
       "                                                         multi_class='auto',\n",
       "                                                         n_jobs=None,\n",
       "                                                         penalty='l2',\n",
       "                                                         random_state=None,\n",
       "                                                         solver='lbfgs',\n",
       "                                                         tol=0.0001, verbose=0,\n",
       "                                                         warm_start=False),\n",
       "                    underSampling=False)"
      ]
     },
     "execution_count": 59,
     "metadata": {
      "tags": []
     },
     "output_type": "execute_result"
    }
   ],
   "source": [
    "my_model_CC_LR = ClassifierChainsAlg(linear_model.LogisticRegression())\n",
    "my_model_CC_LR.fit(X_train, y_train)"
   ]
  },
  {
   "cell_type": "code",
   "execution_count": 60,
   "metadata": {
    "colab": {
     "base_uri": "https://localhost:8080/",
     "height": 468
    },
    "colab_type": "code",
    "id": "8Tnhzo271omR",
    "outputId": "c0eb5caa-f333-450c-fa9a-1a09e0ea7f3a"
   },
   "outputs": [
    {
     "name": "stdout",
     "output_type": "stream",
     "text": [
      "hamming_loss: 0.21369539551357733\n",
      "\n",
      "\n",
      "\n",
      "              precision    recall  f1-score   support\n",
      "\n",
      "           0       0.68      0.48      0.56       143\n",
      "           1       0.57      0.38      0.46       206\n",
      "           2       0.72      0.48      0.57       201\n",
      "           3       0.68      0.53      0.60       180\n",
      "           4       0.60      0.58      0.59       152\n",
      "           5       0.48      0.41      0.44       124\n",
      "           6       0.53      0.22      0.31        90\n",
      "           7       0.47      0.18      0.26       102\n",
      "           8       0.00      0.00      0.00        40\n",
      "           9       0.67      0.04      0.07        56\n",
      "          10       0.67      0.03      0.05        70\n",
      "          11       0.78      0.91      0.84       369\n",
      "          12       0.76      0.91      0.83       364\n",
      "          13       0.00      0.00      0.00         9\n",
      "\n",
      "   micro avg       0.69      0.56      0.62      2106\n",
      "   macro avg       0.54      0.37      0.40      2106\n",
      "weighted avg       0.65      0.56      0.58      2106\n",
      " samples avg       0.65      0.56      0.58      2106\n",
      "\n"
     ]
    }
   ],
   "source": [
    "# Make a set of predictions for the training data\n",
    "y_pred = my_model_CC_LR.predict(x_test)\n",
    "\n",
    "ham_loss = hamming_loss(y_test, y_pred)\n",
    "print(\"hamming_loss: \" +  str(ham_loss))\n",
    "\n",
    "print(\"\\n\\n\")\n",
    "print(metrics.classification_report(y_test, y_pred))"
   ]
  },
  {
   "cell_type": "code",
   "execution_count": 0,
   "metadata": {
    "colab": {},
    "colab_type": "code",
    "id": "1cgEpyw31omV"
   },
   "outputs": [],
   "source": [
    "chainClassificationList.append(round(ham_loss,3))"
   ]
  },
  {
   "cell_type": "code",
   "execution_count": 62,
   "metadata": {
    "colab": {
     "base_uri": "https://localhost:8080/",
     "height": 485
    },
    "colab_type": "code",
    "id": "v6ED763C1omX",
    "outputId": "af375ca8-2a66-484d-b26a-a530d921a7cd"
   },
   "outputs": [
    {
     "data": {
      "text/plain": [
       "array([[[8.36208563e-01, 9.25446167e-01, 7.18527838e-01, ...,\n",
       "         1.84386886e-01, 7.13149229e-03, 9.99426389e-01],\n",
       "        [7.59646258e-01, 7.28114161e-01, 5.57281789e-01, ...,\n",
       "         4.94322720e-01, 1.11437883e-02, 9.97446030e-01],\n",
       "        [7.65529174e-01, 5.32050030e-01, 7.19147832e-01, ...,\n",
       "         1.91537883e-01, 8.89998823e-03, 9.99322501e-01],\n",
       "        ...,\n",
       "        [2.83196602e-01, 9.92717434e-02, 7.98500955e-01, ...,\n",
       "         4.88986699e-01, 1.15568934e-02, 9.99892386e-01],\n",
       "        [8.32736594e-01, 7.32283334e-01, 5.53968356e-01, ...,\n",
       "         2.64771273e-01, 9.33098556e-03, 9.99501562e-01],\n",
       "        [7.91222422e-01, 6.19408365e-01, 3.48880254e-01, ...,\n",
       "         2.46458101e-01, 9.01431966e-03, 9.36948872e-01]],\n",
       "\n",
       "       [[1.63791437e-01, 7.45538333e-02, 2.81472162e-01, ...,\n",
       "         8.15613114e-01, 9.92868508e-01, 5.73611228e-04],\n",
       "        [2.40353742e-01, 2.71885839e-01, 4.42718211e-01, ...,\n",
       "         5.05677280e-01, 9.88856212e-01, 2.55396992e-03],\n",
       "        [2.34470826e-01, 4.67949970e-01, 2.80852168e-01, ...,\n",
       "         8.08462117e-01, 9.91100012e-01, 6.77498763e-04],\n",
       "        ...,\n",
       "        [7.16803398e-01, 9.00728257e-01, 2.01499045e-01, ...,\n",
       "         5.11013301e-01, 9.88443107e-01, 1.07613961e-04],\n",
       "        [1.67263406e-01, 2.67716666e-01, 4.46031644e-01, ...,\n",
       "         7.35228727e-01, 9.90669014e-01, 4.98437697e-04],\n",
       "        [2.08777578e-01, 3.80591635e-01, 6.51119746e-01, ...,\n",
       "         7.53541899e-01, 9.90985680e-01, 6.30511276e-02]]])"
      ]
     },
     "execution_count": 62,
     "metadata": {
      "tags": []
     },
     "output_type": "execute_result"
    }
   ],
   "source": [
    "y_pred_prob = my_model_CC_LR.predict_proba(x_test)\n",
    "y_pred_prob"
   ]
  },
  {
   "cell_type": "markdown",
   "metadata": {
    "colab_type": "text",
    "id": "RRm_fEkK1omY"
   },
   "source": [
    "## Task 5: Evaluate the Performance of the Classifier Chains Algorithm"
   ]
  },
  {
   "cell_type": "code",
   "execution_count": 63,
   "metadata": {
    "colab": {
     "base_uri": "https://localhost:8080/",
     "height": 52
    },
    "colab_type": "code",
    "id": "eTSznNpC1omZ",
    "outputId": "76de16da-4749-4141-f2b6-302313bffd46"
   },
   "outputs": [
    {
     "name": "stdout",
     "output_type": "stream",
     "text": [
      "[0.28055965 0.3011782  0.32658321 0.30940044 0.33049593 0.30088823\n",
      " 0.33456699 0.34974093 0.30495929 0.33086603]\n"
     ]
    }
   ],
   "source": [
    "my_model_BR = ClassifierChainsAlg()\n",
    "#Calculating Cross-Validation Scores\n",
    "scores = cross_val_score(my_model_BR, X_train, y_train, cv=cv_folds, n_jobs=-1,scoring = make_scorer(hamming_loss))\n",
    "print(scores)"
   ]
  },
  {
   "cell_type": "code",
   "execution_count": 64,
   "metadata": {
    "colab": {
     "base_uri": "https://localhost:8080/",
     "height": 191
    },
    "colab_type": "code",
    "id": "PhtfMYbY1omb",
    "outputId": "25b1ccc1-b28e-4baa-cc72-719c2f6bf23f"
   },
   "outputs": [
    {
     "name": "stdout",
     "output_type": "stream",
     "text": [
      "Best parameters set found on development set:\n"
     ]
    },
    {
     "data": {
      "text/plain": [
       "{'PredictClassifier': RandomForestClassifier(bootstrap=True, ccp_alpha=0.0, class_weight=None,\n",
       "                        criterion='gini', max_depth=None, max_features=3,\n",
       "                        max_leaf_nodes=None, max_samples=None,\n",
       "                        min_impurity_decrease=0.0, min_impurity_split=None,\n",
       "                        min_samples_leaf=1, min_samples_split=200,\n",
       "                        min_weight_fraction_leaf=0.0, n_estimators=300,\n",
       "                        n_jobs=None, oob_score=False, random_state=None,\n",
       "                        verbose=0, warm_start=False), 'underSampling': False}"
      ]
     },
     "metadata": {
      "tags": []
     },
     "output_type": "display_data"
    },
    {
     "data": {
      "text/plain": [
       "-0.21694546934371067"
      ]
     },
     "metadata": {
      "tags": []
     },
     "output_type": "display_data"
    }
   ],
   "source": [
    "# Set up the parameter grid to seaerch\n",
    "param_grid = {'PredictClassifier': [GaussianNB(), tree.DecisionTreeClassifier(criterion=\"entropy\") ,\\\n",
    "                                   ensemble.RandomForestClassifier(n_estimators=300, max_features = 3, min_samples_split=200), \\\n",
    "                                   linear_model.LogisticRegression()],\\\n",
    "               'underSampling':[True,False]}\n",
    "\n",
    "# Perform the search\n",
    "my_tuned_tree_CC = GridSearchCV(ClassifierChainsAlg(), \\\n",
    "                                param_grid, cv=2, verbose = 0, \\\n",
    "                            return_train_score=True,scoring = make_scorer(hamming_loss,greater_is_better=False))\n",
    "my_tuned_tree_CC.fit(X_train, y_train)\n",
    "\n",
    "# Print details\n",
    "print(\"Best parameters set found on development set:\")\n",
    "display(my_tuned_tree_CC.best_params_)\n",
    "display(my_tuned_tree_CC.best_score_)\n",
    "# display(my_tuned_tree_CC.cv_results_)"
   ]
  },
  {
   "cell_type": "markdown",
   "metadata": {
    "colab_type": "text",
    "id": "ZvXwTItz1omd"
   },
   "source": [
    "## Graphs for each of the classifier"
   ]
  },
  {
   "cell_type": "code",
   "execution_count": 65,
   "metadata": {
    "colab": {
     "base_uri": "https://localhost:8080/",
     "height": 367
    },
    "colab_type": "code",
    "id": "v3Rcg69l1omd",
    "outputId": "4fb39f7c-d4c0-498c-e694-8295b843ed2e"
   },
   "outputs": [
    {
     "data": {
      "text/plain": [
       "Text(0.5, 1.0, 'Binary Relevance')"
      ]
     },
     "execution_count": 65,
     "metadata": {
      "tags": []
     },
     "output_type": "execute_result"
    },
    {
     "data": {
      "image/png": "[encoded data removed]",
      "text/plain": [
       "<Figure size 504x360 with 1 Axes>"
      ]
     },
     "metadata": {
      "tags": []
     },
     "output_type": "display_data"
    }
   ],
   "source": [
    "yLabels = [\"NaiveBayes\",\"DecisionTree\",\"RandomForest\",\"LogisticRegression\"]\n",
    "plt.subplots(1,1,figsize=(7,5))\n",
    "fig1 = plt.bar(yLabels,binaryRelevanceList)\n",
    "plt.ylabel('Hamming Loss')\n",
    "plt.xlabel('Classifier')\n",
    "plt.title(\"Binary Relevance\")"
   ]
  },
  {
   "cell_type": "code",
   "execution_count": 66,
   "metadata": {
    "colab": {
     "base_uri": "https://localhost:8080/",
     "height": 367
    },
    "colab_type": "code",
    "id": "LP8U8DyW1omf",
    "outputId": "bca3d646-d12d-4779-96c2-c28d321d0287"
   },
   "outputs": [
    {
     "data": {
      "text/plain": [
       "Text(0.5, 1.0, 'Binary Relevance with under sampling')"
      ]
     },
     "execution_count": 66,
     "metadata": {
      "tags": []
     },
     "output_type": "execute_result"
    },
    {
     "data": {
      "image/png": "[encoded data removed]",
      "text/plain": [
       "<Figure size 504x360 with 1 Axes>"
      ]
     },
     "metadata": {
      "tags": []
     },
     "output_type": "display_data"
    }
   ],
   "source": [
    "plt.subplots(1,1,figsize=(7,5))\n",
    "fig2 = plt.bar(yLabels,binaryRelevanceWithUndersamplingList)\n",
    "plt.ylabel('Hamming Loss')\n",
    "plt.xlabel('Classifier')\n",
    "plt.title(\"Binary Relevance with under sampling\")"
   ]
  },
  {
   "cell_type": "code",
   "execution_count": 67,
   "metadata": {
    "colab": {
     "base_uri": "https://localhost:8080/",
     "height": 367
    },
    "colab_type": "code",
    "id": "LlhN4J9Q1omh",
    "outputId": "bd9bdbdb-6783-45cd-f82a-95dbe1e2965c"
   },
   "outputs": [
    {
     "data": {
      "text/plain": [
       "Text(0.5, 1.0, 'Chain Classification')"
      ]
     },
     "execution_count": 67,
     "metadata": {
      "tags": []
     },
     "output_type": "execute_result"
    },
    {
     "data": {
      "image/png": "[encoded data removed]",
      "text/plain": [
       "<Figure size 504x360 with 1 Axes>"
      ]
     },
     "metadata": {
      "tags": []
     },
     "output_type": "display_data"
    }
   ],
   "source": [
    "plt.subplots(1,1,figsize=(7,5))\n",
    "fig3 = plt.bar(yLabels,chainClassificationList)\n",
    "plt.ylabel('Hamming Loss')\n",
    "plt.xlabel('Classifier')\n",
    "plt.title(\"Chain Classification\")"
   ]
  },
  {
   "cell_type": "markdown",
   "metadata": {
    "colab_type": "text",
    "id": "bIukkXjx1omi"
   },
   "source": [
    "## Task 6: Reflect on the Performance of the Different Models Evaluated"
   ]
  },
  {
   "cell_type": "markdown",
   "metadata": {
    "colab_type": "text",
    "id": "xki5bLXb1omj"
   },
   "source": [
    "A macro-average computes each of the metric independently for each class and then take the average, hence treating all classes equally.\n",
    "**********************************************************************************************************\n",
    "The Hamming Loss (HL) is the fraction of the wrong labels to the total number of labels. Hence, for the binary case (imbalanced or not), HL = 1 - Accuracy. It gives each label equal weighting.\n",
    "**********************************************************************************************************\n",
    "Thus we have chosen Hamming Loss as evaluating factor for classifiers.<br>\n",
    "Below is the table detailing values of Hamming Loss and Macro Avg f1-Score for different algorithm and classifier combinations:\n",
    "\n",
    "|Algorithm|Classifer|Hamming Loss|Macro Avg f1-Score|\n",
    "| --- | --- | --- | --- |\n",
    "|BinaryRelavanceAlgorithm|Naïve Bayes|0.294|0.46|\n",
    "|BinaryRelavanceAlgorithm|Decision Tree|0.274|0.41|\n",
    "|BinaryRelavanceAlgorithm|RandomForest|0.214|0.25|\n",
    "|BinaryRelavanceAlgorithm|Logistic Regression|<b>0.203</b>|0.35|\n",
    "| --- | --- | --- | --- |\n",
    "|BinaryRelavanceAlgorithm with Under Sampling|Naïve Bayes|0.374|0.45|\n",
    "|BinaryRelavanceAlgorithm with Under Sampling|Decision Tree|0.413|0.41|\n",
    "|BinaryRelavanceAlgorithm with Under Sampling|RandomForest|0.438|0.47|\n",
    "|BinaryRelavanceAlgorithm with Under Sampling|Logistic Regression|<b>0.360</b>|0.46|\n",
    "| --- | --- | --- | --- |\n",
    "|ClassifierChainsAlgorithm|Naïve Bayes|0.314|0.45|\n",
    "|ClassifierChainsAlgorithm|Decision Tree|0.269|0.41|\n",
    "|ClassifierChainsAlgorithm|RandomForest|0.214|0.25|\n",
    "|ClassifierChainsAlgorithm|Logistic Regression|<b>0.214</b>|0.40|\n",
    "\n",
    "From the table it is evident that <b>Logistic Regression</b> works the best in all the three cases. That is exactly the same result we observed when we evaluated using Grid Search CV.\n",
    "\n",
    "We expected better results (i.e. lower values of hamming loss) both in the cases of undersampling and using the chain classifier, but that was not the case. For binary relevance with undersampling, we suspect the reason to be that when undersampling was not done, there might be more records of a class label in the training set and the same class label records were also greater in number in the test set as well. <br/>\n",
    "While, in the case of chain classification, the class labels might not have any dependencies between them, so combining the labels along with the features might have reduced the prediction accuracy."
   ]
  },
  {
   "cell_type": "markdown",
   "metadata": {
    "colab_type": "text",
    "id": "HRtya1yQ1omk"
   },
   "source": [
    "## Exporting the note-book to html format"
   ]
  },
  {
   "cell_type": "code",
   "execution_count": 1,
   "metadata": {
    "colab": {
     "base_uri": "https://localhost:8080/",
     "height": 1000
    },
    "colab_type": "code",
    "id": "A0ZmjOgg1omk",
    "outputId": "eafc799a-ae1e-44b5-ac94-59a43bfe6249"
   },
   "outputs": [
    {
     "name": "stderr",
     "output_type": "stream",
     "text": [
      "[NbConvertApp] Converting notebook Assignment_1_Shaurya(19200891)_Susmitha(19200996).ipynb to html\n",
      "[NbConvertApp] Writing 500006 bytes to Assignment_1_Shaurya(19200891)_Susmitha(19200996).html\n"
     ]
    }
   ],
   "source": [
    "! jupyter nbconvert --to html Assignment_1_Shaurya(19200891)_Susmitha(19200996).ipynb"
   ]
  },
  {
   "cell_type": "code",
   "execution_count": 0,
   "metadata": {
    "colab": {},
    "colab_type": "code",
    "id": "0Sfyw0GR1omm"
   },
   "outputs": [],
   "source": []
  }
 ],
 "metadata": {
  "colab": {
   "name": "Assignment1_MultiLabelClassification_Solution_updated.ipynb",
   "provenance": []
  },
  "kernelspec": {
   "display_name": "Python 3",
   "language": "python",
   "name": "python3"
  },
  "language_info": {
   "codemirror_mode": {
    "name": "ipython",
    "version": 3
   },
   "file_extension": ".py",
   "mimetype": "text/x-python",
   "name": "python",
   "nbconvert_exporter": "python",
   "pygments_lexer": "ipython3",
   "version": "3.7.4"
  }
 },
 "nbformat": 4,
 "nbformat_minor": 1
}
